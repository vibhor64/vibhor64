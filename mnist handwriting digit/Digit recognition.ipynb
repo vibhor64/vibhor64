{
 "cells": [
  {
   "cell_type": "markdown",
   "metadata": {},
   "source": [
    "# Results:     \n",
    "    accuracy: 0.9951 \n",
    "    loss: 0.0161  \n",
    "    val_loss: 0.0728 \n",
    "    val_accuracy: 0.9811\n",
    "    ********************"
   ]
  },
  {
   "cell_type": "markdown",
   "metadata": {},
   "source": [
    "## Importing Data"
   ]
  },
  {
   "cell_type": "code",
   "execution_count": 1,
   "metadata": {},
   "outputs": [
    {
     "name": "stdout",
     "output_type": "stream",
     "text": [
      "(60000, 28, 28)\n",
      "(60000,)\n"
     ]
    }
   ],
   "source": [
    "import tensorflow as tf\n",
    "import numpy as np\n",
    "import os\n",
    "from tensorflow import keras\n",
    "from tensorflow.keras import layers\n",
    "from keras.datasets import mnist\n",
    "from matplotlib import pyplot\n",
    "\n",
    "(trainData, trainLabels), (testData, testLabels) = mnist.load_data()\n",
    "\n",
    "print(trainData.shape)\n",
    "print(trainLabels.shape)"
   ]
  },
  {
   "cell_type": "code",
   "execution_count": 2,
   "metadata": {},
   "outputs": [
    {
     "name": "stdout",
     "output_type": "stream",
     "text": [
      "[5 0 4 ... 5 6 8]\n"
     ]
    }
   ],
   "source": [
    "print(trainLabels)"
   ]
  },
  {
   "cell_type": "code",
   "execution_count": 3,
   "metadata": {
    "scrolled": true
   },
   "outputs": [],
   "source": [
    "# print(testData[0])"
   ]
  },
  {
   "cell_type": "code",
   "execution_count": 4,
   "metadata": {},
   "outputs": [
    {
     "data": {
      "image/png": "[encoded data removed]",
      "text/plain": [
       "<Figure size 432x288 with 1 Axes>"
      ]
     },
     "metadata": {
      "needs_background": "light"
     },
     "output_type": "display_data"
    }
   ],
   "source": [
    "pyplot.imshow(trainData[0], cmap=pyplot.get_cmap('gray'))\n",
    "pyplot.show()"
   ]
  },
  {
   "cell_type": "code",
   "execution_count": 5,
   "metadata": {},
   "outputs": [],
   "source": [
    "trainData = trainData / 255.0\n",
    "\n",
    "testData = testData / 255.0"
   ]
  },
  {
   "cell_type": "markdown",
   "metadata": {},
   "source": [
    "## Creating A Model"
   ]
  },
  {
   "cell_type": "code",
   "execution_count": 6,
   "metadata": {},
   "outputs": [],
   "source": [
    "model = keras.Sequential([\n",
    "    keras.layers.Flatten(input_shape=(28, 28)),  # input layer (1)\n",
    "    keras.layers.Dense(128, activation='relu'),  # hidden layer (2)\n",
    "    keras.layers.Dense(10, activation='softmax') # output layer (3)\n",
    "])"
   ]
  },
  {
   "cell_type": "code",
   "execution_count": 7,
   "metadata": {},
   "outputs": [
    {
     "name": "stdout",
     "output_type": "stream",
     "text": [
      "Epoch 1/10\n"
     ]
    },
    {
     "name": "stderr",
     "output_type": "stream",
     "text": [
      "c:\\python39\\lib\\site-packages\\tensorflow\\python\\keras\\backend.py:4929: UserWarning: \"`sparse_categorical_crossentropy` received `from_logits=True`, but the `output` argument was produced by a sigmoid or softmax activation and thus does not represent logits. Was this intended?\"\n",
      "  warnings.warn(\n"
     ]
    },
    {
     "name": "stdout",
     "output_type": "stream",
     "text": [
      "1875/1875 [==============================] - 2s 916us/step - loss: 0.2614 - accuracy: 0.9252 - val_loss: 0.1421 - val_accuracy: 0.9581\n",
      "Epoch 2/10\n",
      "1875/1875 [==============================] - 1s 699us/step - loss: 0.1175 - accuracy: 0.9645 - val_loss: 0.1040 - val_accuracy: 0.9665\n",
      "Epoch 3/10\n",
      "1875/1875 [==============================] - 1s 703us/step - loss: 0.0811 - accuracy: 0.9754 - val_loss: 0.0828 - val_accuracy: 0.9744\n",
      "Epoch 4/10\n",
      "1875/1875 [==============================] - 1s 694us/step - loss: 0.0602 - accuracy: 0.9820 - val_loss: 0.0846 - val_accuracy: 0.9728\n",
      "Epoch 5/10\n",
      "1875/1875 [==============================] - 1s 705us/step - loss: 0.0467 - accuracy: 0.9852 - val_loss: 0.0727 - val_accuracy: 0.9786\n",
      "Epoch 6/10\n",
      "1875/1875 [==============================] - 1s 700us/step - loss: 0.0379 - accuracy: 0.9882 - val_loss: 0.0741 - val_accuracy: 0.9783\n",
      "Epoch 7/10\n",
      "1875/1875 [==============================] - 1s 730us/step - loss: 0.0295 - accuracy: 0.9907 - val_loss: 0.0735 - val_accuracy: 0.9787\n",
      "Epoch 8/10\n",
      "1875/1875 [==============================] - 1s 725us/step - loss: 0.0239 - accuracy: 0.9923 - val_loss: 0.0840 - val_accuracy: 0.9776\n",
      "Epoch 9/10\n",
      "1875/1875 [==============================] - 1s 703us/step - loss: 0.0193 - accuracy: 0.9937 - val_loss: 0.0730 - val_accuracy: 0.9800\n",
      "Epoch 10/10\n",
      "1875/1875 [==============================] - 1s 708us/step - loss: 0.0161 - accuracy: 0.9951 - val_loss: 0.0728 - val_accuracy: 0.9811\n"
     ]
    }
   ],
   "source": [
    "model.compile(optimizer='adam',\n",
    "              loss=tf.keras.losses.SparseCategoricalCrossentropy(from_logits=True),\n",
    "              metrics=['accuracy'])\n",
    "\n",
    "history = model.fit(trainData, trainLabels, epochs=10,\n",
    "                    validation_data=(testData, testLabels))"
   ]
  },
  {
   "cell_type": "code",
   "execution_count": 8,
   "metadata": {},
   "outputs": [
    {
     "name": "stdout",
     "output_type": "stream",
     "text": [
      "313/313 [==============================] - 0s 457us/step - loss: 0.0728 - accuracy: 0.9811\n",
      "Test accuracy: 0.9811000227928162\n"
     ]
    }
   ],
   "source": [
    "test_loss, test_acc = model.evaluate(testData,  testLabels, verbose=1) \n",
    "\n",
    "print('Test accuracy:', test_acc)"
   ]
  },
  {
   "cell_type": "code",
   "execution_count": 9,
   "metadata": {},
   "outputs": [],
   "source": [
    "# epoch = accuracy\n",
    "#     1: 0.979\n",
    "#     2: 0.977\n",
    "#     3: 0.979\n",
    "#     4: 0.978\n",
    "#     5: 0.976\n",
    "#     8: 0.978\n",
    "#     10: 0.9812999963760376\n",
    "#     30: 0.977\n",
    "#     28: 0.970"
   ]
  },
  {
   "cell_type": "code",
   "execution_count": null,
   "metadata": {},
   "outputs": [
    {
     "name": "stdout",
     "output_type": "stream",
     "text": [
      "Enter a number and get the prediction corresponding to the number: 7880\n",
      "Expected output:  6\n",
      "Actual output:  6\n"
     ]
    },
    {
     "data": {
      "image/png": "[encoded data removed]",
      "text/plain": [
       "<Figure size 432x288 with 1 Axes>"
      ]
     },
     "metadata": {
      "needs_background": "light"
     },
     "output_type": "display_data"
    },
    {
     "name": "stdout",
     "output_type": "stream",
     "text": [
      "Enter a number and get the prediction corresponding to the number: 5652\n",
      "Expected output:  0\n",
      "Actual output:  0\n"
     ]
    },
    {
     "data": {
      "image/png": "[encoded data removed]",
      "text/plain": [
       "<Figure size 432x288 with 1 Axes>"
      ]
     },
     "metadata": {
      "needs_background": "light"
     },
     "output_type": "display_data"
    },
    {
     "name": "stdout",
     "output_type": "stream",
     "text": [
      "Enter a number and get the prediction corresponding to the number: 90\n",
      "Expected output:  3\n",
      "Actual output:  3\n"
     ]
    },
    {
     "data": {
      "image/png": "[encoded data removed]",
      "text/plain": [
       "<Figure size 432x288 with 1 Axes>"
      ]
     },
     "metadata": {
      "needs_background": "light"
     },
     "output_type": "display_data"
    },
    {
     "name": "stdout",
     "output_type": "stream",
     "text": [
      "Enter a number and get the prediction corresponding to the number: 213\n",
      "Expected output:  3\n",
      "Actual output:  3\n"
     ]
    },
    {
     "data": {
      "image/png": "[encoded data removed]",
      "text/plain": [
       "<Figure size 432x288 with 1 Axes>"
      ]
     },
     "metadata": {
      "needs_background": "light"
     },
     "output_type": "display_data"
    }
   ],
   "source": [
    "while True:\n",
    "    i = int(input(\"Enter a number and get the prediction corresponding to the number: \"))\n",
    "    predictions = model.predict(testData)\n",
    "    print(\"Expected output: \", testLabels[i])\n",
    "    print(\"Actual output: \", np.argmax(predictions[i]))\n",
    "    pyplot.imshow(testData[i], cmap=pyplot.get_cmap('gray'))\n",
    "    pyplot.show()"
   ]
  },
  {
   "cell_type": "code",
   "execution_count": null,
   "metadata": {},
   "outputs": [],
   "source": []
  }
 ],
 "metadata": {
  "kernelspec": {
   "display_name": "Python 3 (ipykernel)",
   "language": "python",
   "name": "python3"
  },
  "language_info": {
   "codemirror_mode": {
    "name": "ipython",
    "version": 3
   },
   "file_extension": ".py",
   "mimetype": "text/x-python",
   "name": "python",
   "nbconvert_exporter": "python",
   "pygments_lexer": "ipython3",
   "version": "3.9.6"
  }
 },
 "nbformat": 4,
 "nbformat_minor": 2
}
