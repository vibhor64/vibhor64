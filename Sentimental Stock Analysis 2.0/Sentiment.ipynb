{
 "cells": [
  {
   "cell_type": "code",
   "execution_count": 1,
   "id": "f0bd87e9",
   "metadata": {},
   "outputs": [],
   "source": [
    "import numpy as np\n",
    "\n",
    "import pandas as pd"
   ]
  },
  {
   "cell_type": "code",
   "execution_count": 3,
   "id": "67001762",
   "metadata": {},
   "outputs": [],
   "source": [
    "df = pd.read_csv(\"df1.csv\")"
   ]
  },
  {
   "cell_type": "code",
   "execution_count": 4,
   "id": "e57dd581",
   "metadata": {},
   "outputs": [
    {
     "data": {
      "text/html": [
       "<div>\n",
       "<style scoped>\n",
       "    .dataframe tbody tr th:only-of-type {\n",
       "        vertical-align: middle;\n",
       "    }\n",
       "\n",
       "    .dataframe tbody tr th {\n",
       "        vertical-align: top;\n",
       "    }\n",
       "\n",
       "    .dataframe thead th {\n",
       "        text-align: right;\n",
       "    }\n",
       "</style>\n",
       "<table border=\"1\" class=\"dataframe\">\n",
       "  <thead>\n",
       "    <tr style=\"text-align: right;\">\n",
       "      <th></th>\n",
       "      <th>Unnamed: 0</th>\n",
       "      <th>Sno</th>\n",
       "      <th>Title</th>\n",
       "      <th>Flair</th>\n",
       "      <th>Post Text</th>\n",
       "      <th>ID</th>\n",
       "      <th>Post URL</th>\n",
       "    </tr>\n",
       "  </thead>\n",
       "  <tbody>\n",
       "    <tr>\n",
       "      <th>0</th>\n",
       "      <td>0</td>\n",
       "      <td>28</td>\n",
       "      <td>New chimps, stop fucking going in with your li...</td>\n",
       "      <td>Discussion</td>\n",
       "      <td>You stupid dumb fucks. Pouring 200k of your gr...</td>\n",
       "      <td>tfgul9</td>\n",
       "      <td>https://www.reddit.com/r/wallstreetbets/commen...</td>\n",
       "    </tr>\n",
       "    <tr>\n",
       "      <th>1</th>\n",
       "      <td>1</td>\n",
       "      <td>52</td>\n",
       "      <td>$GME Borrow Fee is climbing fast.</td>\n",
       "      <td>Discussion</td>\n",
       "      <td>Hello, you degenerates, I hope everyone is doi...</td>\n",
       "      <td>tn6uo5</td>\n",
       "      <td>https://www.reddit.com/r/wallstreetbets/commen...</td>\n",
       "    </tr>\n",
       "    <tr>\n",
       "      <th>2</th>\n",
       "      <td>2</td>\n",
       "      <td>56</td>\n",
       "      <td>The \"loss porn\" isn't even fun anymore</td>\n",
       "      <td>Discussion</td>\n",
       "      <td>Seriously what the fuck is this shit. Every lo...</td>\n",
       "      <td>th53jz</td>\n",
       "      <td>https://www.reddit.com/r/wallstreetbets/commen...</td>\n",
       "    </tr>\n",
       "    <tr>\n",
       "      <th>3</th>\n",
       "      <td>3</td>\n",
       "      <td>119</td>\n",
       "      <td>Another Director bought the GME dip!</td>\n",
       "      <td>Discussion</td>\n",
       "      <td>Alan Attal bought 1500 shares today\\n\\nYesterd...</td>\n",
       "      <td>tn95sw</td>\n",
       "      <td>https://www.reddit.com/r/wallstreetbets/commen...</td>\n",
       "    </tr>\n",
       "    <tr>\n",
       "      <th>4</th>\n",
       "      <td>4</td>\n",
       "      <td>160</td>\n",
       "      <td>Let's take a moment and pay respect</td>\n",
       "      <td>Discussion</td>\n",
       "      <td>$GME\\n\\nFew key points to its history so far.\\...</td>\n",
       "      <td>tkff34</td>\n",
       "      <td>https://www.reddit.com/r/wallstreetbets/commen...</td>\n",
       "    </tr>\n",
       "    <tr>\n",
       "      <th>...</th>\n",
       "      <td>...</td>\n",
       "      <td>...</td>\n",
       "      <td>...</td>\n",
       "      <td>...</td>\n",
       "      <td>...</td>\n",
       "      <td>...</td>\n",
       "      <td>...</td>\n",
       "    </tr>\n",
       "    <tr>\n",
       "      <th>180</th>\n",
       "      <td>246</td>\n",
       "      <td>2004</td>\n",
       "      <td>Bull Case for $HD (Home Depot)</td>\n",
       "      <td>Company Analysis</td>\n",
       "      <td>Hi friends, I am not an expert stock trader/in...</td>\n",
       "      <td>tp10fq</td>\n",
       "      <td>https://www.reddit.com/r/stocks/comments/tp10f...</td>\n",
       "    </tr>\n",
       "    <tr>\n",
       "      <th>181</th>\n",
       "      <td>247</td>\n",
       "      <td>2018</td>\n",
       "      <td>SiliconMotion of the Ocean - Mega Memory Upsid...</td>\n",
       "      <td>Company Analysis</td>\n",
       "      <td>&gt;\"Put on your bull glasses and SIMO gains\" - D...</td>\n",
       "      <td>tk9a44</td>\n",
       "      <td>https://www.reddit.com/r/stocks/comments/tk9a4...</td>\n",
       "    </tr>\n",
       "    <tr>\n",
       "      <th>182</th>\n",
       "      <td>248</td>\n",
       "      <td>2086</td>\n",
       "      <td>NIU Technologies (NIU) Overview</td>\n",
       "      <td>Company Analysis</td>\n",
       "      <td>**NIU Technologies (NIU)** \\- the world’s lead...</td>\n",
       "      <td>th1czt</td>\n",
       "      <td>https://www.reddit.com/r/stocks/comments/th1cz...</td>\n",
       "    </tr>\n",
       "    <tr>\n",
       "      <th>183</th>\n",
       "      <td>249</td>\n",
       "      <td>2278</td>\n",
       "      <td>Will AAPL.O target $210,how do you think of it</td>\n",
       "      <td>Company Analysis</td>\n",
       "      <td>Fund managers have increased their holdings of...</td>\n",
       "      <td>ty38gn</td>\n",
       "      <td>https://www.reddit.com/r/stocks/comments/ty38g...</td>\n",
       "    </tr>\n",
       "    <tr>\n",
       "      <th>184</th>\n",
       "      <td>250</td>\n",
       "      <td>2308</td>\n",
       "      <td>STLA; DD deep value deep dive</td>\n",
       "      <td>Company Analysis</td>\n",
       "      <td>Company: Stellantis (STLA)\\n\\nCompany Informat...</td>\n",
       "      <td>tto6j2</td>\n",
       "      <td>https://www.reddit.com/r/stocks/comments/tto6j...</td>\n",
       "    </tr>\n",
       "  </tbody>\n",
       "</table>\n",
       "<p>185 rows × 7 columns</p>\n",
       "</div>"
      ],
      "text/plain": [
       "     Unnamed: 0   Sno                                              Title  \\\n",
       "0             0    28  New chimps, stop fucking going in with your li...   \n",
       "1             1    52                  $GME Borrow Fee is climbing fast.   \n",
       "2             2    56             The \"loss porn\" isn't even fun anymore   \n",
       "3             3   119               Another Director bought the GME dip!   \n",
       "4             4   160                Let's take a moment and pay respect   \n",
       "..          ...   ...                                                ...   \n",
       "180         246  2004                     Bull Case for $HD (Home Depot)   \n",
       "181         247  2018  SiliconMotion of the Ocean - Mega Memory Upsid...   \n",
       "182         248  2086                    NIU Technologies (NIU) Overview   \n",
       "183         249  2278     Will AAPL.O target $210,how do you think of it   \n",
       "184         250  2308                      STLA; DD deep value deep dive   \n",
       "\n",
       "                Flair                                          Post Text  \\\n",
       "0          Discussion  You stupid dumb fucks. Pouring 200k of your gr...   \n",
       "1          Discussion  Hello, you degenerates, I hope everyone is doi...   \n",
       "2          Discussion  Seriously what the fuck is this shit. Every lo...   \n",
       "3          Discussion  Alan Attal bought 1500 shares today\\n\\nYesterd...   \n",
       "4          Discussion  $GME\\n\\nFew key points to its history so far.\\...   \n",
       "..                ...                                                ...   \n",
       "180  Company Analysis  Hi friends, I am not an expert stock trader/in...   \n",
       "181  Company Analysis  >\"Put on your bull glasses and SIMO gains\" - D...   \n",
       "182  Company Analysis  **NIU Technologies (NIU)** \\- the world’s lead...   \n",
       "183  Company Analysis  Fund managers have increased their holdings of...   \n",
       "184  Company Analysis  Company: Stellantis (STLA)\\n\\nCompany Informat...   \n",
       "\n",
       "         ID                                           Post URL  \n",
       "0    tfgul9  https://www.reddit.com/r/wallstreetbets/commen...  \n",
       "1    tn6uo5  https://www.reddit.com/r/wallstreetbets/commen...  \n",
       "2    th53jz  https://www.reddit.com/r/wallstreetbets/commen...  \n",
       "3    tn95sw  https://www.reddit.com/r/wallstreetbets/commen...  \n",
       "4    tkff34  https://www.reddit.com/r/wallstreetbets/commen...  \n",
       "..      ...                                                ...  \n",
       "180  tp10fq  https://www.reddit.com/r/stocks/comments/tp10f...  \n",
       "181  tk9a44  https://www.reddit.com/r/stocks/comments/tk9a4...  \n",
       "182  th1czt  https://www.reddit.com/r/stocks/comments/th1cz...  \n",
       "183  ty38gn  https://www.reddit.com/r/stocks/comments/ty38g...  \n",
       "184  tto6j2  https://www.reddit.com/r/stocks/comments/tto6j...  \n",
       "\n",
       "[185 rows x 7 columns]"
      ]
     },
     "execution_count": 4,
     "metadata": {},
     "output_type": "execute_result"
    }
   ],
   "source": [
    "df"
   ]
  },
  {
   "cell_type": "code",
   "execution_count": 6,
   "id": "fc8c3077",
   "metadata": {},
   "outputs": [],
   "source": [
    "text = df[\"Post Text\"]"
   ]
  },
  {
   "cell_type": "code",
   "execution_count": 7,
   "id": "95411f39",
   "metadata": {},
   "outputs": [
    {
     "data": {
      "text/plain": [
       "0      You stupid dumb fucks. Pouring 200k of your gr...\n",
       "1      Hello, you degenerates, I hope everyone is doi...\n",
       "2      Seriously what the fuck is this shit. Every lo...\n",
       "3      Alan Attal bought 1500 shares today\\n\\nYesterd...\n",
       "4      $GME\\n\\nFew key points to its history so far.\\...\n",
       "                             ...                        \n",
       "180    Hi friends, I am not an expert stock trader/in...\n",
       "181    >\"Put on your bull glasses and SIMO gains\" - D...\n",
       "182    **NIU Technologies (NIU)** \\- the world’s lead...\n",
       "183    Fund managers have increased their holdings of...\n",
       "184    Company: Stellantis (STLA)\\n\\nCompany Informat...\n",
       "Name: Post Text, Length: 185, dtype: object"
      ]
     },
     "execution_count": 7,
     "metadata": {},
     "output_type": "execute_result"
    }
   ],
   "source": [
    "text"
   ]
  },
  {
   "cell_type": "code",
   "execution_count": 5,
   "id": "672afee5",
   "metadata": {},
   "outputs": [],
   "source": [
    "import openai\n",
    "\n",
    "openai.api_key = 'ENTER-YOUR-KEY'"
   ]
  },
  {
   "cell_type": "code",
   "execution_count": 38,
   "id": "ffc373ff",
   "metadata": {},
   "outputs": [
    {
     "data": {
      "text/plain": [
       "\"Alan Attal bought 1500 shares today\\n\\nYesterday Larry Cheng bought 4000\\n\\nTuesday RC bought 100k\\n\\nWho's gonna be next?\\n\\n&#x200B;\\n\\nGME to the fucking moon!!!!\\n\\n&#x200B;\\n\\n[https://www.sec.gov/Archives/edgar/data/1326380/000132638022000030/xslF345X03/wf-form4\\\\_164816416950465.xml](https://www.sec.gov/Archives/edgar/data/1326380/000132638022000030/xslF345X03/wf-form4_164816416950465.xml)\\n\\n&#x200B;\\n\\n***ps - make sure to drs your shares!***\""
      ]
     },
     "execution_count": 38,
     "metadata": {},
     "output_type": "execute_result"
    }
   ],
   "source": [
    "text[3]"
   ]
  },
  {
   "cell_type": "code",
   "execution_count": 37,
   "id": "4ca78926",
   "metadata": {},
   "outputs": [
    {
     "data": {
      "text/plain": [
       "<OpenAIObject text_completion id=cmpl-4yP1z6EKBcDupRcw3L0XyraJ7X5HY at 0x2b0fd1ae2c0> JSON: {\n",
       "  \"choices\": [\n",
       "    {\n",
       "      \"finish_reason\": \"stop\",\n",
       "      \"index\": 0,\n",
       "      \"logprobs\": null,\n",
       "      \"text\": \" Negative\"\n",
       "    }\n",
       "  ],\n",
       "  \"created\": 1650301247,\n",
       "  \"id\": \"cmpl-4yP1z6EKBcDupRcw3L0XyraJ7X5HY\",\n",
       "  \"model\": \"text-davinci:002\",\n",
       "  \"object\": \"text_completion\"\n",
       "}"
      ]
     },
     "execution_count": 37,
     "metadata": {},
     "output_type": "execute_result"
    }
   ],
   "source": [
    "response = openai.Completion.create(\n",
    "  engine=\"text-davinci-002\",\n",
    "  prompt=\"Decide whether a Tweet's sentiment is positive, neutral, or negative.\\n\\nTweet: \\text[3]\\\\nSentiment:\",\n",
    "  temperature=0,\n",
    "  max_tokens=60,\n",
    "  top_p=1.0,\n",
    "  frequency_penalty=0.5,\n",
    "  presence_penalty=0.0\n",
    ")\n",
    "response"
   ]
  },
  {
   "cell_type": "code",
   "execution_count": null,
   "id": "e9bb8ce2",
   "metadata": {},
   "outputs": [],
   "source": []
  }
 ],
 "metadata": {
  "kernelspec": {
   "display_name": "Python 3 (ipykernel)",
   "language": "python",
   "name": "python3"
  },
  "language_info": {
   "codemirror_mode": {
    "name": "ipython",
    "version": 3
   },
   "file_extension": ".py",
   "mimetype": "text/x-python",
   "name": "python",
   "nbconvert_exporter": "python",
   "pygments_lexer": "ipython3",
   "version": "3.9.6"
  }
 },
 "nbformat": 4,
 "nbformat_minor": 5
}
