{
 "cells": [
  {
   "cell_type": "code",
   "execution_count": 114,
   "id": "9faeef51",
   "metadata": {},
   "outputs": [],
   "source": [
    "import numpy as np\n",
    "\n",
    "import pandas as pd"
   ]
  },
  {
   "cell_type": "code",
   "execution_count": 115,
   "id": "4ed532c9",
   "metadata": {},
   "outputs": [],
   "source": [
    "dataframe = pd.read_csv(\"result.csv\")"
   ]
  },
  {
   "cell_type": "code",
   "execution_count": 116,
   "id": "1ff4edcf",
   "metadata": {},
   "outputs": [],
   "source": [
    "df = dataframe"
   ]
  },
  {
   "cell_type": "code",
   "execution_count": 117,
   "id": "ee395935",
   "metadata": {},
   "outputs": [
    {
     "data": {
      "text/html": [
       "<div>\n",
       "<style scoped>\n",
       "    .dataframe tbody tr th:only-of-type {\n",
       "        vertical-align: middle;\n",
       "    }\n",
       "\n",
       "    .dataframe tbody tr th {\n",
       "        vertical-align: top;\n",
       "    }\n",
       "\n",
       "    .dataframe thead th {\n",
       "        text-align: right;\n",
       "    }\n",
       "</style>\n",
       "<table border=\"1\" class=\"dataframe\">\n",
       "  <thead>\n",
       "    <tr style=\"text-align: right;\">\n",
       "      <th></th>\n",
       "      <th>Sno</th>\n",
       "      <th>Title</th>\n",
       "      <th>Flair</th>\n",
       "      <th>Post Text</th>\n",
       "      <th>ID</th>\n",
       "      <th>Post URL</th>\n",
       "    </tr>\n",
       "  </thead>\n",
       "  <tbody>\n",
       "    <tr>\n",
       "      <th>0</th>\n",
       "      <td>28</td>\n",
       "      <td>New chimps, stop fucking going in with your li...</td>\n",
       "      <td>Discussion</td>\n",
       "      <td>You stupid dumb fucks. Pouring 200k of your gr...</td>\n",
       "      <td>tfgul9</td>\n",
       "      <td>https://www.reddit.com/r/wallstreetbets/commen...</td>\n",
       "    </tr>\n",
       "    <tr>\n",
       "      <th>1</th>\n",
       "      <td>52</td>\n",
       "      <td>$GME Borrow Fee is climbing fast.</td>\n",
       "      <td>Discussion</td>\n",
       "      <td>Hello, you degenerates, I hope everyone is doi...</td>\n",
       "      <td>tn6uo5</td>\n",
       "      <td>https://www.reddit.com/r/wallstreetbets/commen...</td>\n",
       "    </tr>\n",
       "    <tr>\n",
       "      <th>2</th>\n",
       "      <td>56</td>\n",
       "      <td>The \"loss porn\" isn't even fun anymore</td>\n",
       "      <td>Discussion</td>\n",
       "      <td>Seriously what the fuck is this shit. Every lo...</td>\n",
       "      <td>th53jz</td>\n",
       "      <td>https://www.reddit.com/r/wallstreetbets/commen...</td>\n",
       "    </tr>\n",
       "    <tr>\n",
       "      <th>3</th>\n",
       "      <td>119</td>\n",
       "      <td>Another Director bought the GME dip!</td>\n",
       "      <td>Discussion</td>\n",
       "      <td>Alan Attal bought 1500 shares today\\n\\nYesterd...</td>\n",
       "      <td>tn95sw</td>\n",
       "      <td>https://www.reddit.com/r/wallstreetbets/commen...</td>\n",
       "    </tr>\n",
       "    <tr>\n",
       "      <th>4</th>\n",
       "      <td>160</td>\n",
       "      <td>Let's take a moment and pay respect</td>\n",
       "      <td>Discussion</td>\n",
       "      <td>$GME\\n\\nFew key points to its history so far.\\...</td>\n",
       "      <td>tkff34</td>\n",
       "      <td>https://www.reddit.com/r/wallstreetbets/commen...</td>\n",
       "    </tr>\n",
       "  </tbody>\n",
       "</table>\n",
       "</div>"
      ],
      "text/plain": [
       "   Sno                                              Title       Flair  \\\n",
       "0   28  New chimps, stop fucking going in with your li...  Discussion   \n",
       "1   52                  $GME Borrow Fee is climbing fast.  Discussion   \n",
       "2   56             The \"loss porn\" isn't even fun anymore  Discussion   \n",
       "3  119               Another Director bought the GME dip!  Discussion   \n",
       "4  160                Let's take a moment and pay respect  Discussion   \n",
       "\n",
       "                                           Post Text      ID  \\\n",
       "0  You stupid dumb fucks. Pouring 200k of your gr...  tfgul9   \n",
       "1  Hello, you degenerates, I hope everyone is doi...  tn6uo5   \n",
       "2  Seriously what the fuck is this shit. Every lo...  th53jz   \n",
       "3  Alan Attal bought 1500 shares today\\n\\nYesterd...  tn95sw   \n",
       "4  $GME\\n\\nFew key points to its history so far.\\...  tkff34   \n",
       "\n",
       "                                            Post URL  \n",
       "0  https://www.reddit.com/r/wallstreetbets/commen...  \n",
       "1  https://www.reddit.com/r/wallstreetbets/commen...  \n",
       "2  https://www.reddit.com/r/wallstreetbets/commen...  \n",
       "3  https://www.reddit.com/r/wallstreetbets/commen...  \n",
       "4  https://www.reddit.com/r/wallstreetbets/commen...  "
      ]
     },
     "execution_count": 117,
     "metadata": {},
     "output_type": "execute_result"
    }
   ],
   "source": [
    "df.head()"
   ]
  },
  {
   "cell_type": "code",
   "execution_count": 118,
   "id": "29b4cd86",
   "metadata": {},
   "outputs": [],
   "source": [
    "text = df[\"Post Text\"]"
   ]
  },
  {
   "cell_type": "code",
   "execution_count": 119,
   "id": "5d864534",
   "metadata": {},
   "outputs": [
    {
     "data": {
      "text/plain": [
       "0      You stupid dumb fucks. Pouring 200k of your gr...\n",
       "1      Hello, you degenerates, I hope everyone is doi...\n",
       "2      Seriously what the fuck is this shit. Every lo...\n",
       "3      Alan Attal bought 1500 shares today\\n\\nYesterd...\n",
       "4      $GME\\n\\nFew key points to its history so far.\\...\n",
       "                             ...                        \n",
       "246    Hi friends, I am not an expert stock trader/in...\n",
       "247    >\"Put on your bull glasses and SIMO gains\" - D...\n",
       "248    **NIU Technologies (NIU)** \\- the world’s lead...\n",
       "249    Fund managers have increased their holdings of...\n",
       "250    Company: Stellantis (STLA)\\n\\nCompany Informat...\n",
       "Name: Post Text, Length: 251, dtype: object"
      ]
     },
     "execution_count": 119,
     "metadata": {},
     "output_type": "execute_result"
    }
   ],
   "source": [
    "text"
   ]
  },
  {
   "cell_type": "code",
   "execution_count": 120,
   "id": "281b6f11",
   "metadata": {},
   "outputs": [
    {
     "data": {
      "text/plain": [
       "10      308\n",
       "15      385\n",
       "18      450\n",
       "22      615\n",
       "24      622\n",
       "       ... \n",
       "175    2868\n",
       "176    2880\n",
       "177    2891\n",
       "179    2944\n",
       "180    2967\n",
       "Name: Sno, Length: 66, dtype: int64"
      ]
     },
     "execution_count": 120,
     "metadata": {},
     "output_type": "execute_result"
    }
   ],
   "source": [
    "df[df['Post Text'].isna()].Sno"
   ]
  },
  {
   "cell_type": "code",
   "execution_count": 129,
   "id": "194cdb09",
   "metadata": {},
   "outputs": [],
   "source": [
    "df1 = df.dropna()"
   ]
  },
  {
   "cell_type": "code",
   "execution_count": 130,
   "id": "b11c669b",
   "metadata": {
    "scrolled": true
   },
   "outputs": [
    {
     "data": {
      "text/html": [
       "<div>\n",
       "<style scoped>\n",
       "    .dataframe tbody tr th:only-of-type {\n",
       "        vertical-align: middle;\n",
       "    }\n",
       "\n",
       "    .dataframe tbody tr th {\n",
       "        vertical-align: top;\n",
       "    }\n",
       "\n",
       "    .dataframe thead th {\n",
       "        text-align: right;\n",
       "    }\n",
       "</style>\n",
       "<table border=\"1\" class=\"dataframe\">\n",
       "  <thead>\n",
       "    <tr style=\"text-align: right;\">\n",
       "      <th></th>\n",
       "      <th>Sno</th>\n",
       "      <th>Title</th>\n",
       "      <th>Flair</th>\n",
       "      <th>Post Text</th>\n",
       "      <th>ID</th>\n",
       "      <th>Post URL</th>\n",
       "    </tr>\n",
       "  </thead>\n",
       "  <tbody>\n",
       "    <tr>\n",
       "      <th>0</th>\n",
       "      <td>28</td>\n",
       "      <td>New chimps, stop fucking going in with your li...</td>\n",
       "      <td>Discussion</td>\n",
       "      <td>You stupid dumb fucks. Pouring 200k of your gr...</td>\n",
       "      <td>tfgul9</td>\n",
       "      <td>https://www.reddit.com/r/wallstreetbets/commen...</td>\n",
       "    </tr>\n",
       "    <tr>\n",
       "      <th>1</th>\n",
       "      <td>52</td>\n",
       "      <td>$GME Borrow Fee is climbing fast.</td>\n",
       "      <td>Discussion</td>\n",
       "      <td>Hello, you degenerates, I hope everyone is doi...</td>\n",
       "      <td>tn6uo5</td>\n",
       "      <td>https://www.reddit.com/r/wallstreetbets/commen...</td>\n",
       "    </tr>\n",
       "    <tr>\n",
       "      <th>2</th>\n",
       "      <td>56</td>\n",
       "      <td>The \"loss porn\" isn't even fun anymore</td>\n",
       "      <td>Discussion</td>\n",
       "      <td>Seriously what the fuck is this shit. Every lo...</td>\n",
       "      <td>th53jz</td>\n",
       "      <td>https://www.reddit.com/r/wallstreetbets/commen...</td>\n",
       "    </tr>\n",
       "    <tr>\n",
       "      <th>3</th>\n",
       "      <td>119</td>\n",
       "      <td>Another Director bought the GME dip!</td>\n",
       "      <td>Discussion</td>\n",
       "      <td>Alan Attal bought 1500 shares today\\n\\nYesterd...</td>\n",
       "      <td>tn95sw</td>\n",
       "      <td>https://www.reddit.com/r/wallstreetbets/commen...</td>\n",
       "    </tr>\n",
       "    <tr>\n",
       "      <th>4</th>\n",
       "      <td>160</td>\n",
       "      <td>Let's take a moment and pay respect</td>\n",
       "      <td>Discussion</td>\n",
       "      <td>$GME\\n\\nFew key points to its history so far.\\...</td>\n",
       "      <td>tkff34</td>\n",
       "      <td>https://www.reddit.com/r/wallstreetbets/commen...</td>\n",
       "    </tr>\n",
       "    <tr>\n",
       "      <th>...</th>\n",
       "      <td>...</td>\n",
       "      <td>...</td>\n",
       "      <td>...</td>\n",
       "      <td>...</td>\n",
       "      <td>...</td>\n",
       "      <td>...</td>\n",
       "    </tr>\n",
       "    <tr>\n",
       "      <th>246</th>\n",
       "      <td>2004</td>\n",
       "      <td>Bull Case for $HD (Home Depot)</td>\n",
       "      <td>Company Analysis</td>\n",
       "      <td>Hi friends, I am not an expert stock trader/in...</td>\n",
       "      <td>tp10fq</td>\n",
       "      <td>https://www.reddit.com/r/stocks/comments/tp10f...</td>\n",
       "    </tr>\n",
       "    <tr>\n",
       "      <th>247</th>\n",
       "      <td>2018</td>\n",
       "      <td>SiliconMotion of the Ocean - Mega Memory Upsid...</td>\n",
       "      <td>Company Analysis</td>\n",
       "      <td>&gt;\"Put on your bull glasses and SIMO gains\" - D...</td>\n",
       "      <td>tk9a44</td>\n",
       "      <td>https://www.reddit.com/r/stocks/comments/tk9a4...</td>\n",
       "    </tr>\n",
       "    <tr>\n",
       "      <th>248</th>\n",
       "      <td>2086</td>\n",
       "      <td>NIU Technologies (NIU) Overview</td>\n",
       "      <td>Company Analysis</td>\n",
       "      <td>**NIU Technologies (NIU)** \\- the world’s lead...</td>\n",
       "      <td>th1czt</td>\n",
       "      <td>https://www.reddit.com/r/stocks/comments/th1cz...</td>\n",
       "    </tr>\n",
       "    <tr>\n",
       "      <th>249</th>\n",
       "      <td>2278</td>\n",
       "      <td>Will AAPL.O target $210,how do you think of it</td>\n",
       "      <td>Company Analysis</td>\n",
       "      <td>Fund managers have increased their holdings of...</td>\n",
       "      <td>ty38gn</td>\n",
       "      <td>https://www.reddit.com/r/stocks/comments/ty38g...</td>\n",
       "    </tr>\n",
       "    <tr>\n",
       "      <th>250</th>\n",
       "      <td>2308</td>\n",
       "      <td>STLA; DD deep value deep dive</td>\n",
       "      <td>Company Analysis</td>\n",
       "      <td>Company: Stellantis (STLA)\\n\\nCompany Informat...</td>\n",
       "      <td>tto6j2</td>\n",
       "      <td>https://www.reddit.com/r/stocks/comments/tto6j...</td>\n",
       "    </tr>\n",
       "  </tbody>\n",
       "</table>\n",
       "<p>185 rows × 6 columns</p>\n",
       "</div>"
      ],
      "text/plain": [
       "      Sno                                              Title  \\\n",
       "0      28  New chimps, stop fucking going in with your li...   \n",
       "1      52                  $GME Borrow Fee is climbing fast.   \n",
       "2      56             The \"loss porn\" isn't even fun anymore   \n",
       "3     119               Another Director bought the GME dip!   \n",
       "4     160                Let's take a moment and pay respect   \n",
       "..    ...                                                ...   \n",
       "246  2004                     Bull Case for $HD (Home Depot)   \n",
       "247  2018  SiliconMotion of the Ocean - Mega Memory Upsid...   \n",
       "248  2086                    NIU Technologies (NIU) Overview   \n",
       "249  2278     Will AAPL.O target $210,how do you think of it   \n",
       "250  2308                      STLA; DD deep value deep dive   \n",
       "\n",
       "                Flair                                          Post Text  \\\n",
       "0          Discussion  You stupid dumb fucks. Pouring 200k of your gr...   \n",
       "1          Discussion  Hello, you degenerates, I hope everyone is doi...   \n",
       "2          Discussion  Seriously what the fuck is this shit. Every lo...   \n",
       "3          Discussion  Alan Attal bought 1500 shares today\\n\\nYesterd...   \n",
       "4          Discussion  $GME\\n\\nFew key points to its history so far.\\...   \n",
       "..                ...                                                ...   \n",
       "246  Company Analysis  Hi friends, I am not an expert stock trader/in...   \n",
       "247  Company Analysis  >\"Put on your bull glasses and SIMO gains\" - D...   \n",
       "248  Company Analysis  **NIU Technologies (NIU)** \\- the world’s lead...   \n",
       "249  Company Analysis  Fund managers have increased their holdings of...   \n",
       "250  Company Analysis  Company: Stellantis (STLA)\\n\\nCompany Informat...   \n",
       "\n",
       "         ID                                           Post URL  \n",
       "0    tfgul9  https://www.reddit.com/r/wallstreetbets/commen...  \n",
       "1    tn6uo5  https://www.reddit.com/r/wallstreetbets/commen...  \n",
       "2    th53jz  https://www.reddit.com/r/wallstreetbets/commen...  \n",
       "3    tn95sw  https://www.reddit.com/r/wallstreetbets/commen...  \n",
       "4    tkff34  https://www.reddit.com/r/wallstreetbets/commen...  \n",
       "..      ...                                                ...  \n",
       "246  tp10fq  https://www.reddit.com/r/stocks/comments/tp10f...  \n",
       "247  tk9a44  https://www.reddit.com/r/stocks/comments/tk9a4...  \n",
       "248  th1czt  https://www.reddit.com/r/stocks/comments/th1cz...  \n",
       "249  ty38gn  https://www.reddit.com/r/stocks/comments/ty38g...  \n",
       "250  tto6j2  https://www.reddit.com/r/stocks/comments/tto6j...  \n",
       "\n",
       "[185 rows x 6 columns]"
      ]
     },
     "execution_count": 130,
     "metadata": {},
     "output_type": "execute_result"
    }
   ],
   "source": [
    "df1"
   ]
  },
  {
   "cell_type": "code",
   "execution_count": 131,
   "id": "f048e635",
   "metadata": {},
   "outputs": [],
   "source": [
    "text = df1[\"Post Text\"]"
   ]
  },
  {
   "cell_type": "code",
   "execution_count": 132,
   "id": "5de7085a",
   "metadata": {},
   "outputs": [
    {
     "data": {
      "text/plain": [
       "0      You stupid dumb fucks. Pouring 200k of your gr...\n",
       "1      Hello, you degenerates, I hope everyone is doi...\n",
       "2      Seriously what the fuck is this shit. Every lo...\n",
       "3      Alan Attal bought 1500 shares today\\n\\nYesterd...\n",
       "4      $GME\\n\\nFew key points to its history so far.\\...\n",
       "                             ...                        \n",
       "246    Hi friends, I am not an expert stock trader/in...\n",
       "247    >\"Put on your bull glasses and SIMO gains\" - D...\n",
       "248    **NIU Technologies (NIU)** \\- the world’s lead...\n",
       "249    Fund managers have increased their holdings of...\n",
       "250    Company: Stellantis (STLA)\\n\\nCompany Informat...\n",
       "Name: Post Text, Length: 185, dtype: object"
      ]
     },
     "execution_count": 132,
     "metadata": {},
     "output_type": "execute_result"
    }
   ],
   "source": [
    "text"
   ]
  },
  {
   "cell_type": "code",
   "execution_count": 136,
   "id": "1c93eebb",
   "metadata": {},
   "outputs": [
    {
     "ename": "KeyError",
     "evalue": "10",
     "output_type": "error",
     "traceback": [
      "\u001b[1;31m---------------------------------------------------------------------------\u001b[0m",
      "\u001b[1;31mKeyError\u001b[0m                                  Traceback (most recent call last)",
      "\u001b[1;32mc:\\python39\\lib\\site-packages\\pandas\\core\\indexes\\base.py\u001b[0m in \u001b[0;36mget_loc\u001b[1;34m(self, key, method, tolerance)\u001b[0m\n\u001b[0;32m   3360\u001b[0m             \u001b[1;32mtry\u001b[0m\u001b[1;33m:\u001b[0m\u001b[1;33m\u001b[0m\u001b[1;33m\u001b[0m\u001b[0m\n\u001b[1;32m-> 3361\u001b[1;33m                 \u001b[1;32mreturn\u001b[0m \u001b[0mself\u001b[0m\u001b[1;33m.\u001b[0m\u001b[0m_engine\u001b[0m\u001b[1;33m.\u001b[0m\u001b[0mget_loc\u001b[0m\u001b[1;33m(\u001b[0m\u001b[0mcasted_key\u001b[0m\u001b[1;33m)\u001b[0m\u001b[1;33m\u001b[0m\u001b[1;33m\u001b[0m\u001b[0m\n\u001b[0m\u001b[0;32m   3362\u001b[0m             \u001b[1;32mexcept\u001b[0m \u001b[0mKeyError\u001b[0m \u001b[1;32mas\u001b[0m \u001b[0merr\u001b[0m\u001b[1;33m:\u001b[0m\u001b[1;33m\u001b[0m\u001b[1;33m\u001b[0m\u001b[0m\n",
      "\u001b[1;32mc:\\python39\\lib\\site-packages\\pandas\\_libs\\index.pyx\u001b[0m in \u001b[0;36mpandas._libs.index.IndexEngine.get_loc\u001b[1;34m()\u001b[0m\n",
      "\u001b[1;32mc:\\python39\\lib\\site-packages\\pandas\\_libs\\index.pyx\u001b[0m in \u001b[0;36mpandas._libs.index.IndexEngine.get_loc\u001b[1;34m()\u001b[0m\n",
      "\u001b[1;32mpandas\\_libs\\hashtable_class_helper.pxi\u001b[0m in \u001b[0;36mpandas._libs.hashtable.Int64HashTable.get_item\u001b[1;34m()\u001b[0m\n",
      "\u001b[1;32mpandas\\_libs\\hashtable_class_helper.pxi\u001b[0m in \u001b[0;36mpandas._libs.hashtable.Int64HashTable.get_item\u001b[1;34m()\u001b[0m\n",
      "\u001b[1;31mKeyError\u001b[0m: 10",
      "\nThe above exception was the direct cause of the following exception:\n",
      "\u001b[1;31mKeyError\u001b[0m                                  Traceback (most recent call last)",
      "\u001b[1;32m~\\AppData\\Local\\Temp/ipykernel_8284/1663137827.py\u001b[0m in \u001b[0;36m<module>\u001b[1;34m\u001b[0m\n\u001b[1;32m----> 1\u001b[1;33m \u001b[0mtext\u001b[0m\u001b[1;33m[\u001b[0m\u001b[1;36m10\u001b[0m\u001b[1;33m]\u001b[0m\u001b[1;33m\u001b[0m\u001b[1;33m\u001b[0m\u001b[0m\n\u001b[0m",
      "\u001b[1;32mc:\\python39\\lib\\site-packages\\pandas\\core\\series.py\u001b[0m in \u001b[0;36m__getitem__\u001b[1;34m(self, key)\u001b[0m\n\u001b[0;32m    940\u001b[0m \u001b[1;33m\u001b[0m\u001b[0m\n\u001b[0;32m    941\u001b[0m         \u001b[1;32melif\u001b[0m \u001b[0mkey_is_scalar\u001b[0m\u001b[1;33m:\u001b[0m\u001b[1;33m\u001b[0m\u001b[1;33m\u001b[0m\u001b[0m\n\u001b[1;32m--> 942\u001b[1;33m             \u001b[1;32mreturn\u001b[0m \u001b[0mself\u001b[0m\u001b[1;33m.\u001b[0m\u001b[0m_get_value\u001b[0m\u001b[1;33m(\u001b[0m\u001b[0mkey\u001b[0m\u001b[1;33m)\u001b[0m\u001b[1;33m\u001b[0m\u001b[1;33m\u001b[0m\u001b[0m\n\u001b[0m\u001b[0;32m    943\u001b[0m \u001b[1;33m\u001b[0m\u001b[0m\n\u001b[0;32m    944\u001b[0m         \u001b[1;32mif\u001b[0m \u001b[0mis_hashable\u001b[0m\u001b[1;33m(\u001b[0m\u001b[0mkey\u001b[0m\u001b[1;33m)\u001b[0m\u001b[1;33m:\u001b[0m\u001b[1;33m\u001b[0m\u001b[1;33m\u001b[0m\u001b[0m\n",
      "\u001b[1;32mc:\\python39\\lib\\site-packages\\pandas\\core\\series.py\u001b[0m in \u001b[0;36m_get_value\u001b[1;34m(self, label, takeable)\u001b[0m\n\u001b[0;32m   1049\u001b[0m \u001b[1;33m\u001b[0m\u001b[0m\n\u001b[0;32m   1050\u001b[0m         \u001b[1;31m# Similar to Index.get_value, but we do not fall back to positional\u001b[0m\u001b[1;33m\u001b[0m\u001b[1;33m\u001b[0m\u001b[1;33m\u001b[0m\u001b[0m\n\u001b[1;32m-> 1051\u001b[1;33m         \u001b[0mloc\u001b[0m \u001b[1;33m=\u001b[0m \u001b[0mself\u001b[0m\u001b[1;33m.\u001b[0m\u001b[0mindex\u001b[0m\u001b[1;33m.\u001b[0m\u001b[0mget_loc\u001b[0m\u001b[1;33m(\u001b[0m\u001b[0mlabel\u001b[0m\u001b[1;33m)\u001b[0m\u001b[1;33m\u001b[0m\u001b[1;33m\u001b[0m\u001b[0m\n\u001b[0m\u001b[0;32m   1052\u001b[0m         \u001b[1;32mreturn\u001b[0m \u001b[0mself\u001b[0m\u001b[1;33m.\u001b[0m\u001b[0mindex\u001b[0m\u001b[1;33m.\u001b[0m\u001b[0m_get_values_for_loc\u001b[0m\u001b[1;33m(\u001b[0m\u001b[0mself\u001b[0m\u001b[1;33m,\u001b[0m \u001b[0mloc\u001b[0m\u001b[1;33m,\u001b[0m \u001b[0mlabel\u001b[0m\u001b[1;33m)\u001b[0m\u001b[1;33m\u001b[0m\u001b[1;33m\u001b[0m\u001b[0m\n\u001b[0;32m   1053\u001b[0m \u001b[1;33m\u001b[0m\u001b[0m\n",
      "\u001b[1;32mc:\\python39\\lib\\site-packages\\pandas\\core\\indexes\\base.py\u001b[0m in \u001b[0;36mget_loc\u001b[1;34m(self, key, method, tolerance)\u001b[0m\n\u001b[0;32m   3361\u001b[0m                 \u001b[1;32mreturn\u001b[0m \u001b[0mself\u001b[0m\u001b[1;33m.\u001b[0m\u001b[0m_engine\u001b[0m\u001b[1;33m.\u001b[0m\u001b[0mget_loc\u001b[0m\u001b[1;33m(\u001b[0m\u001b[0mcasted_key\u001b[0m\u001b[1;33m)\u001b[0m\u001b[1;33m\u001b[0m\u001b[1;33m\u001b[0m\u001b[0m\n\u001b[0;32m   3362\u001b[0m             \u001b[1;32mexcept\u001b[0m \u001b[0mKeyError\u001b[0m \u001b[1;32mas\u001b[0m \u001b[0merr\u001b[0m\u001b[1;33m:\u001b[0m\u001b[1;33m\u001b[0m\u001b[1;33m\u001b[0m\u001b[0m\n\u001b[1;32m-> 3363\u001b[1;33m                 \u001b[1;32mraise\u001b[0m \u001b[0mKeyError\u001b[0m\u001b[1;33m(\u001b[0m\u001b[0mkey\u001b[0m\u001b[1;33m)\u001b[0m \u001b[1;32mfrom\u001b[0m \u001b[0merr\u001b[0m\u001b[1;33m\u001b[0m\u001b[1;33m\u001b[0m\u001b[0m\n\u001b[0m\u001b[0;32m   3364\u001b[0m \u001b[1;33m\u001b[0m\u001b[0m\n\u001b[0;32m   3365\u001b[0m         \u001b[1;32mif\u001b[0m \u001b[0mis_scalar\u001b[0m\u001b[1;33m(\u001b[0m\u001b[0mkey\u001b[0m\u001b[1;33m)\u001b[0m \u001b[1;32mand\u001b[0m \u001b[0misna\u001b[0m\u001b[1;33m(\u001b[0m\u001b[0mkey\u001b[0m\u001b[1;33m)\u001b[0m \u001b[1;32mand\u001b[0m \u001b[1;32mnot\u001b[0m \u001b[0mself\u001b[0m\u001b[1;33m.\u001b[0m\u001b[0mhasnans\u001b[0m\u001b[1;33m:\u001b[0m\u001b[1;33m\u001b[0m\u001b[1;33m\u001b[0m\u001b[0m\n",
      "\u001b[1;31mKeyError\u001b[0m: 10"
     ]
    }
   ],
   "source": [
    "text[10]"
   ]
  },
  {
   "cell_type": "code",
   "execution_count": 137,
   "id": "ceb3e5e6",
   "metadata": {},
   "outputs": [
    {
     "name": "stdout",
     "output_type": "stream",
     "text": [
      "['Sno', 'Title', 'Flair', 'Post Text', 'ID', 'Post URL']\n"
     ]
    }
   ],
   "source": [
    "print(df1.columns.tolist())"
   ]
  },
  {
   "cell_type": "code",
   "execution_count": 138,
   "id": "fe5d7c19",
   "metadata": {},
   "outputs": [],
   "source": [
    "df1.to_csv('df1.csv')"
   ]
  },
  {
   "cell_type": "code",
   "execution_count": null,
   "id": "b3a1dd1d",
   "metadata": {},
   "outputs": [],
   "source": []
  }
 ],
 "metadata": {
  "kernelspec": {
   "display_name": "Python 3 (ipykernel)",
   "language": "python",
   "name": "python3"
  },
  "language_info": {
   "codemirror_mode": {
    "name": "ipython",
    "version": 3
   },
   "file_extension": ".py",
   "mimetype": "text/x-python",
   "name": "python",
   "nbconvert_exporter": "python",
   "pygments_lexer": "ipython3",
   "version": "3.9.6"
  }
 },
 "nbformat": 4,
 "nbformat_minor": 5
}
