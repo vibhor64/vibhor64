{
 "cells": [
  {
   "cell_type": "code",
   "execution_count": 1,
   "id": "b10e0c04",
   "metadata": {},
   "outputs": [
    {
     "name": "stdout",
     "output_type": "stream",
     "text": [
      "2022-05-21 16:42:09,693 https://nlp.informatik.hu-berlin.de/resources/models/sentiment-curated-distilbert/sentiment-en-mix-distillbert_4.pt not found in cache, downloading to C:\\Users\\vibho\\AppData\\Local\\Temp\\tmpb3mbtfy8\n"
     ]
    },
    {
     "name": "stderr",
     "output_type": "stream",
     "text": [
      "100%|████████████████████████████████████████████████████████████████| 265512723/265512723 [00:39<00:00, 6787129.40B/s]"
     ]
    },
    {
     "name": "stdout",
     "output_type": "stream",
     "text": [
      "2022-05-21 16:42:49,354 copying C:\\Users\\vibho\\AppData\\Local\\Temp\\tmpb3mbtfy8 to cache at C:\\Users\\vibho\\.flair\\models\\sentiment-en-mix-distillbert_4.pt\n"
     ]
    },
    {
     "name": "stderr",
     "output_type": "stream",
     "text": [
      "\n"
     ]
    },
    {
     "name": "stdout",
     "output_type": "stream",
     "text": [
      "2022-05-21 16:42:49,722 removing temp file C:\\Users\\vibho\\AppData\\Local\\Temp\\tmpb3mbtfy8\n",
      "2022-05-21 16:42:49,748 loading file C:\\Users\\vibho\\.flair\\models\\sentiment-en-mix-distillbert_4.pt\n"
     ]
    },
    {
     "data": {
      "application/vnd.jupyter.widget-view+json": {
       "model_id": "0a02ffad554d4d6d8e923f9187f3691e",
       "version_major": 2,
       "version_minor": 0
      },
      "text/plain": [
       "Downloading:   0%|          | 0.00/28.0 [00:00<?, ?B/s]"
      ]
     },
     "metadata": {},
     "output_type": "display_data"
    },
    {
     "data": {
      "application/vnd.jupyter.widget-view+json": {
       "model_id": "aba337a98c6445a081d40d72c7b27a92",
       "version_major": 2,
       "version_minor": 0
      },
      "text/plain": [
       "Downloading:   0%|          | 0.00/483 [00:00<?, ?B/s]"
      ]
     },
     "metadata": {},
     "output_type": "display_data"
    },
    {
     "data": {
      "application/vnd.jupyter.widget-view+json": {
       "model_id": "1dc5666c9703474d97c004ca63652b98",
       "version_major": 2,
       "version_minor": 0
      },
      "text/plain": [
       "Downloading:   0%|          | 0.00/226k [00:00<?, ?B/s]"
      ]
     },
     "metadata": {},
     "output_type": "display_data"
    },
    {
     "data": {
      "application/vnd.jupyter.widget-view+json": {
       "model_id": "c6c7403a40ad4983b85c2f1ea44bfff6",
       "version_major": 2,
       "version_minor": 0
      },
      "text/plain": [
       "Downloading:   0%|          | 0.00/455k [00:00<?, ?B/s]"
      ]
     },
     "metadata": {},
     "output_type": "display_data"
    }
   ],
   "source": [
    "import flair\n",
    "sentiment_model = flair.models.TextClassifier.load('en-sentiment')"
   ]
  },
  {
   "cell_type": "code",
   "execution_count": 2,
   "id": "79e6a587",
   "metadata": {},
   "outputs": [],
   "source": [
    "TEXT = \"hello world\"\n",
    "sentence = flair.data.Sentence(TEXT)\n",
    "sentiment_model.predict(sentence)"
   ]
  },
  {
   "cell_type": "code",
   "execution_count": 3,
   "id": "fa879dcb",
   "metadata": {},
   "outputs": [
    {
     "data": {
      "text/plain": [
       "Sentence: \"hello world\" → POSITIVE (0.9759)"
      ]
     },
     "execution_count": 3,
     "metadata": {},
     "output_type": "execute_result"
    }
   ],
   "source": [
    "sentence"
   ]
  },
  {
   "cell_type": "code",
   "execution_count": 4,
   "id": "04c6fe2f",
   "metadata": {},
   "outputs": [
    {
     "data": {
      "text/plain": [
       "Sentence: \"the quality of cheese in this pizza has saved dominos from bankruptcy\" → POSITIVE (0.9999)"
      ]
     },
     "execution_count": 4,
     "metadata": {},
     "output_type": "execute_result"
    }
   ],
   "source": [
    "TEXT = \"the quality of cheese in this pizza has saved dominos from bankruptcy\"\n",
    "sentence = flair.data.Sentence(TEXT)\n",
    "sentiment_model.predict(sentence)\n",
    "sentence"
   ]
  },
  {
   "cell_type": "code",
   "execution_count": 5,
   "id": "c87e4e50",
   "metadata": {},
   "outputs": [],
   "source": [
    "import numpy as np\n",
    "\n",
    "import pandas as pd"
   ]
  },
  {
   "cell_type": "code",
   "execution_count": 10,
   "id": "8d9574ae",
   "metadata": {},
   "outputs": [],
   "source": [
    "df = pd.read_csv(\"df1.csv\")"
   ]
  },
  {
   "cell_type": "code",
   "execution_count": 11,
   "id": "4ff16da7",
   "metadata": {},
   "outputs": [
    {
     "data": {
      "text/html": [
       "<div>\n",
       "<style scoped>\n",
       "    .dataframe tbody tr th:only-of-type {\n",
       "        vertical-align: middle;\n",
       "    }\n",
       "\n",
       "    .dataframe tbody tr th {\n",
       "        vertical-align: top;\n",
       "    }\n",
       "\n",
       "    .dataframe thead th {\n",
       "        text-align: right;\n",
       "    }\n",
       "</style>\n",
       "<table border=\"1\" class=\"dataframe\">\n",
       "  <thead>\n",
       "    <tr style=\"text-align: right;\">\n",
       "      <th></th>\n",
       "      <th>Unnamed: 0</th>\n",
       "      <th>Sno</th>\n",
       "      <th>Title</th>\n",
       "      <th>Flair</th>\n",
       "      <th>Post Text</th>\n",
       "      <th>ID</th>\n",
       "      <th>Post URL</th>\n",
       "    </tr>\n",
       "  </thead>\n",
       "  <tbody>\n",
       "    <tr>\n",
       "      <th>0</th>\n",
       "      <td>0</td>\n",
       "      <td>28</td>\n",
       "      <td>New chimps, stop fucking going in with your li...</td>\n",
       "      <td>Discussion</td>\n",
       "      <td>You stupid dumb fucks. Pouring 200k of your gr...</td>\n",
       "      <td>tfgul9</td>\n",
       "      <td>https://www.reddit.com/r/wallstreetbets/commen...</td>\n",
       "    </tr>\n",
       "    <tr>\n",
       "      <th>1</th>\n",
       "      <td>1</td>\n",
       "      <td>52</td>\n",
       "      <td>$GME Borrow Fee is climbing fast.</td>\n",
       "      <td>Discussion</td>\n",
       "      <td>Hello, you degenerates, I hope everyone is doi...</td>\n",
       "      <td>tn6uo5</td>\n",
       "      <td>https://www.reddit.com/r/wallstreetbets/commen...</td>\n",
       "    </tr>\n",
       "    <tr>\n",
       "      <th>2</th>\n",
       "      <td>2</td>\n",
       "      <td>56</td>\n",
       "      <td>The \"loss porn\" isn't even fun anymore</td>\n",
       "      <td>Discussion</td>\n",
       "      <td>Seriously what the fuck is this shit. Every lo...</td>\n",
       "      <td>th53jz</td>\n",
       "      <td>https://www.reddit.com/r/wallstreetbets/commen...</td>\n",
       "    </tr>\n",
       "    <tr>\n",
       "      <th>3</th>\n",
       "      <td>3</td>\n",
       "      <td>119</td>\n",
       "      <td>Another Director bought the GME dip!</td>\n",
       "      <td>Discussion</td>\n",
       "      <td>Alan Attal bought 1500 shares today\\n\\nYesterd...</td>\n",
       "      <td>tn95sw</td>\n",
       "      <td>https://www.reddit.com/r/wallstreetbets/commen...</td>\n",
       "    </tr>\n",
       "    <tr>\n",
       "      <th>4</th>\n",
       "      <td>4</td>\n",
       "      <td>160</td>\n",
       "      <td>Let's take a moment and pay respect</td>\n",
       "      <td>Discussion</td>\n",
       "      <td>$GME\\n\\nFew key points to its history so far.\\...</td>\n",
       "      <td>tkff34</td>\n",
       "      <td>https://www.reddit.com/r/wallstreetbets/commen...</td>\n",
       "    </tr>\n",
       "  </tbody>\n",
       "</table>\n",
       "</div>"
      ],
      "text/plain": [
       "   Unnamed: 0  Sno                                              Title  \\\n",
       "0           0   28  New chimps, stop fucking going in with your li...   \n",
       "1           1   52                  $GME Borrow Fee is climbing fast.   \n",
       "2           2   56             The \"loss porn\" isn't even fun anymore   \n",
       "3           3  119               Another Director bought the GME dip!   \n",
       "4           4  160                Let's take a moment and pay respect   \n",
       "\n",
       "        Flair                                          Post Text      ID  \\\n",
       "0  Discussion  You stupid dumb fucks. Pouring 200k of your gr...  tfgul9   \n",
       "1  Discussion  Hello, you degenerates, I hope everyone is doi...  tn6uo5   \n",
       "2  Discussion  Seriously what the fuck is this shit. Every lo...  th53jz   \n",
       "3  Discussion  Alan Attal bought 1500 shares today\\n\\nYesterd...  tn95sw   \n",
       "4  Discussion  $GME\\n\\nFew key points to its history so far.\\...  tkff34   \n",
       "\n",
       "                                            Post URL  \n",
       "0  https://www.reddit.com/r/wallstreetbets/commen...  \n",
       "1  https://www.reddit.com/r/wallstreetbets/commen...  \n",
       "2  https://www.reddit.com/r/wallstreetbets/commen...  \n",
       "3  https://www.reddit.com/r/wallstreetbets/commen...  \n",
       "4  https://www.reddit.com/r/wallstreetbets/commen...  "
      ]
     },
     "execution_count": 11,
     "metadata": {},
     "output_type": "execute_result"
    }
   ],
   "source": [
    "df.head()"
   ]
  },
  {
   "cell_type": "code",
   "execution_count": 12,
   "id": "51c9e211",
   "metadata": {},
   "outputs": [
    {
     "data": {
      "text/html": [
       "<div>\n",
       "<style scoped>\n",
       "    .dataframe tbody tr th:only-of-type {\n",
       "        vertical-align: middle;\n",
       "    }\n",
       "\n",
       "    .dataframe tbody tr th {\n",
       "        vertical-align: top;\n",
       "    }\n",
       "\n",
       "    .dataframe thead th {\n",
       "        text-align: right;\n",
       "    }\n",
       "</style>\n",
       "<table border=\"1\" class=\"dataframe\">\n",
       "  <thead>\n",
       "    <tr style=\"text-align: right;\">\n",
       "      <th></th>\n",
       "      <th>Unnamed: 0</th>\n",
       "      <th>Sno</th>\n",
       "      <th>Title</th>\n",
       "      <th>Flair</th>\n",
       "      <th>Post Text</th>\n",
       "      <th>ID</th>\n",
       "      <th>Post URL</th>\n",
       "    </tr>\n",
       "  </thead>\n",
       "  <tbody>\n",
       "    <tr>\n",
       "      <th>0</th>\n",
       "      <td>0</td>\n",
       "      <td>28</td>\n",
       "      <td>New chimps, stop fucking going in with your li...</td>\n",
       "      <td>Discussion</td>\n",
       "      <td>You stupid dumb fucks. Pouring 200k of your gr...</td>\n",
       "      <td>tfgul9</td>\n",
       "      <td>https://www.reddit.com/r/wallstreetbets/commen...</td>\n",
       "    </tr>\n",
       "    <tr>\n",
       "      <th>1</th>\n",
       "      <td>1</td>\n",
       "      <td>52</td>\n",
       "      <td>$GME Borrow Fee is climbing fast.</td>\n",
       "      <td>Discussion</td>\n",
       "      <td>Hello, you degenerates, I hope everyone is doi...</td>\n",
       "      <td>tn6uo5</td>\n",
       "      <td>https://www.reddit.com/r/wallstreetbets/commen...</td>\n",
       "    </tr>\n",
       "    <tr>\n",
       "      <th>2</th>\n",
       "      <td>2</td>\n",
       "      <td>56</td>\n",
       "      <td>The \"loss porn\" isn't even fun anymore</td>\n",
       "      <td>Discussion</td>\n",
       "      <td>Seriously what the fuck is this shit. Every lo...</td>\n",
       "      <td>th53jz</td>\n",
       "      <td>https://www.reddit.com/r/wallstreetbets/commen...</td>\n",
       "    </tr>\n",
       "    <tr>\n",
       "      <th>3</th>\n",
       "      <td>3</td>\n",
       "      <td>119</td>\n",
       "      <td>Another Director bought the GME dip!</td>\n",
       "      <td>Discussion</td>\n",
       "      <td>Alan Attal bought 1500 shares today\\n\\nYesterd...</td>\n",
       "      <td>tn95sw</td>\n",
       "      <td>https://www.reddit.com/r/wallstreetbets/commen...</td>\n",
       "    </tr>\n",
       "    <tr>\n",
       "      <th>4</th>\n",
       "      <td>4</td>\n",
       "      <td>160</td>\n",
       "      <td>Let's take a moment and pay respect</td>\n",
       "      <td>Discussion</td>\n",
       "      <td>$GME\\n\\nFew key points to its history so far.\\...</td>\n",
       "      <td>tkff34</td>\n",
       "      <td>https://www.reddit.com/r/wallstreetbets/commen...</td>\n",
       "    </tr>\n",
       "    <tr>\n",
       "      <th>...</th>\n",
       "      <td>...</td>\n",
       "      <td>...</td>\n",
       "      <td>...</td>\n",
       "      <td>...</td>\n",
       "      <td>...</td>\n",
       "      <td>...</td>\n",
       "      <td>...</td>\n",
       "    </tr>\n",
       "    <tr>\n",
       "      <th>180</th>\n",
       "      <td>246</td>\n",
       "      <td>2004</td>\n",
       "      <td>Bull Case for $HD (Home Depot)</td>\n",
       "      <td>Company Analysis</td>\n",
       "      <td>Hi friends, I am not an expert stock trader/in...</td>\n",
       "      <td>tp10fq</td>\n",
       "      <td>https://www.reddit.com/r/stocks/comments/tp10f...</td>\n",
       "    </tr>\n",
       "    <tr>\n",
       "      <th>181</th>\n",
       "      <td>247</td>\n",
       "      <td>2018</td>\n",
       "      <td>SiliconMotion of the Ocean - Mega Memory Upsid...</td>\n",
       "      <td>Company Analysis</td>\n",
       "      <td>&gt;\"Put on your bull glasses and SIMO gains\" - D...</td>\n",
       "      <td>tk9a44</td>\n",
       "      <td>https://www.reddit.com/r/stocks/comments/tk9a4...</td>\n",
       "    </tr>\n",
       "    <tr>\n",
       "      <th>182</th>\n",
       "      <td>248</td>\n",
       "      <td>2086</td>\n",
       "      <td>NIU Technologies (NIU) Overview</td>\n",
       "      <td>Company Analysis</td>\n",
       "      <td>**NIU Technologies (NIU)** \\- the world’s lead...</td>\n",
       "      <td>th1czt</td>\n",
       "      <td>https://www.reddit.com/r/stocks/comments/th1cz...</td>\n",
       "    </tr>\n",
       "    <tr>\n",
       "      <th>183</th>\n",
       "      <td>249</td>\n",
       "      <td>2278</td>\n",
       "      <td>Will AAPL.O target $210,how do you think of it</td>\n",
       "      <td>Company Analysis</td>\n",
       "      <td>Fund managers have increased their holdings of...</td>\n",
       "      <td>ty38gn</td>\n",
       "      <td>https://www.reddit.com/r/stocks/comments/ty38g...</td>\n",
       "    </tr>\n",
       "    <tr>\n",
       "      <th>184</th>\n",
       "      <td>250</td>\n",
       "      <td>2308</td>\n",
       "      <td>STLA; DD deep value deep dive</td>\n",
       "      <td>Company Analysis</td>\n",
       "      <td>Company: Stellantis (STLA)\\n\\nCompany Informat...</td>\n",
       "      <td>tto6j2</td>\n",
       "      <td>https://www.reddit.com/r/stocks/comments/tto6j...</td>\n",
       "    </tr>\n",
       "  </tbody>\n",
       "</table>\n",
       "<p>185 rows × 7 columns</p>\n",
       "</div>"
      ],
      "text/plain": [
       "     Unnamed: 0   Sno                                              Title  \\\n",
       "0             0    28  New chimps, stop fucking going in with your li...   \n",
       "1             1    52                  $GME Borrow Fee is climbing fast.   \n",
       "2             2    56             The \"loss porn\" isn't even fun anymore   \n",
       "3             3   119               Another Director bought the GME dip!   \n",
       "4             4   160                Let's take a moment and pay respect   \n",
       "..          ...   ...                                                ...   \n",
       "180         246  2004                     Bull Case for $HD (Home Depot)   \n",
       "181         247  2018  SiliconMotion of the Ocean - Mega Memory Upsid...   \n",
       "182         248  2086                    NIU Technologies (NIU) Overview   \n",
       "183         249  2278     Will AAPL.O target $210,how do you think of it   \n",
       "184         250  2308                      STLA; DD deep value deep dive   \n",
       "\n",
       "                Flair                                          Post Text  \\\n",
       "0          Discussion  You stupid dumb fucks. Pouring 200k of your gr...   \n",
       "1          Discussion  Hello, you degenerates, I hope everyone is doi...   \n",
       "2          Discussion  Seriously what the fuck is this shit. Every lo...   \n",
       "3          Discussion  Alan Attal bought 1500 shares today\\n\\nYesterd...   \n",
       "4          Discussion  $GME\\n\\nFew key points to its history so far.\\...   \n",
       "..                ...                                                ...   \n",
       "180  Company Analysis  Hi friends, I am not an expert stock trader/in...   \n",
       "181  Company Analysis  >\"Put on your bull glasses and SIMO gains\" - D...   \n",
       "182  Company Analysis  **NIU Technologies (NIU)** \\- the world’s lead...   \n",
       "183  Company Analysis  Fund managers have increased their holdings of...   \n",
       "184  Company Analysis  Company: Stellantis (STLA)\\n\\nCompany Informat...   \n",
       "\n",
       "         ID                                           Post URL  \n",
       "0    tfgul9  https://www.reddit.com/r/wallstreetbets/commen...  \n",
       "1    tn6uo5  https://www.reddit.com/r/wallstreetbets/commen...  \n",
       "2    th53jz  https://www.reddit.com/r/wallstreetbets/commen...  \n",
       "3    tn95sw  https://www.reddit.com/r/wallstreetbets/commen...  \n",
       "4    tkff34  https://www.reddit.com/r/wallstreetbets/commen...  \n",
       "..      ...                                                ...  \n",
       "180  tp10fq  https://www.reddit.com/r/stocks/comments/tp10f...  \n",
       "181  tk9a44  https://www.reddit.com/r/stocks/comments/tk9a4...  \n",
       "182  th1czt  https://www.reddit.com/r/stocks/comments/th1cz...  \n",
       "183  ty38gn  https://www.reddit.com/r/stocks/comments/ty38g...  \n",
       "184  tto6j2  https://www.reddit.com/r/stocks/comments/tto6j...  \n",
       "\n",
       "[185 rows x 7 columns]"
      ]
     },
     "execution_count": 12,
     "metadata": {},
     "output_type": "execute_result"
    }
   ],
   "source": [
    "df"
   ]
  },
  {
   "cell_type": "code",
   "execution_count": 15,
   "id": "c8e0663d",
   "metadata": {},
   "outputs": [],
   "source": [
    "text = df[\"Post Text\"]"
   ]
  },
  {
   "cell_type": "code",
   "execution_count": 17,
   "id": "24d20984",
   "metadata": {},
   "outputs": [
    {
     "data": {
      "text/plain": [
       "\"Seriously what the fuck is this shit. Every loss porn now is some retard proving wealth is largely generational, because left to their own devices they would absolutely be in poverty.\\n\\nThere is nothing funny or interesting about it. How the fuck do you lose 300 thousand dollars in 3 months the second you take control of your portfolio? I mean, literally how do you do it. Nobody even post positions in these fucking threads so I have no idea.\\n\\nI used to think it was asinine that the government was trying to regulate retail to protect them from themselves, then I see you retards come to a cult you think is about losing money and start throwing hundreds of thousands of dollars it took you over a quarter of your lives to build up into the pocket of Havard graduates who actually got a degree and spent 5 seconds to learn anything and get a job at GS.\\n\\nThis is going to blow your fucking mind but Wall Street Bets is a sub about making money. Despite how the memes have taken over, the entire idea here is we actually make money. Don't respond to this comment with a shitty joke about how your account is red or some dumb shit. If you have never seen green on your account, liquidate it right now, take your money out of banks, put it under pillows, and accept your loss to inflation because you are too dumb to function and handle money beyond the level of a caveman hoarding rocks.\\n\\nCan we get a return to people actually making money, and actually having any idea whatsoever as to why they do the things they do...or even how a fucking option works. Jesus H tap dancing mother fucking Christ.\\n\\nPosition USO 80 4/30 C\""
      ]
     },
     "execution_count": 17,
     "metadata": {},
     "output_type": "execute_result"
    }
   ],
   "source": [
    "text[2]"
   ]
  },
  {
   "cell_type": "code",
   "execution_count": 19,
   "id": "f46a53ee",
   "metadata": {},
   "outputs": [
    {
     "data": {
      "text/plain": [
       "Sentence: \"Seriously what the fuck is this shit . Every loss porn now is some retard proving wealth is largely generational , because left to their own devices they would absolutely be in poverty . There is nothing funny or interesting about it . How the fuck do you lose 300 thousand dollars in 3 months the second you take control of your portfolio ? I mean , literally how do you do it . Nobody even post positions in these fucking threads so I have no idea . I used to think it was asinine that the government was trying to regulate retail to protect them from themselves , then I see you retards come to a cult you think is about losing money and start throwing hundreds of thousands of dollars it took you over a quarter of your lives to build up into the pocket of Havard graduates who actually got a degree and spent 5 seconds to learn anything and get a job at GS . This is going to blow your fucking mind but Wall Street Bets is a sub about making money . Despite how the memes have taken over , the entire idea here is we actually make money . Do n't respond to this comment with a shitty joke about how your account is red or some dumb shit . If you have never seen green on your account , liquidate it right now , take your money out of banks , put it under pillows , and accept your loss to inflation because you are too dumb to function and handle money beyond the level of a caveman hoarding rocks . Can we get a return to people actually making money , and actually having any idea whatsoever as to why they do the things they do ... or even how a fucking option works . Jesus H tap dancing mother fucking Christ . Position USO 80 4 / 30 C\" → NEGATIVE (0.9999)"
      ]
     },
     "execution_count": 19,
     "metadata": {},
     "output_type": "execute_result"
    }
   ],
   "source": [
    "sentence = flair.data.Sentence(text[2])\n",
    "sentiment_model.predict(sentence)\n",
    "sentence"
   ]
  },
  {
   "cell_type": "code",
   "execution_count": 22,
   "id": "1311efce",
   "metadata": {},
   "outputs": [
    {
     "data": {
      "text/plain": [
       "'NEGATIVE'"
      ]
     },
     "execution_count": 22,
     "metadata": {},
     "output_type": "execute_result"
    }
   ],
   "source": [
    "sentence.labels[0].value"
   ]
  },
  {
   "cell_type": "code",
   "execution_count": 25,
   "id": "08b58da3",
   "metadata": {},
   "outputs": [
    {
     "data": {
      "text/plain": [
       "0      You stupid dumb fucks. Pouring 200k of your gr...\n",
       "1      Hello, you degenerates, I hope everyone is doi...\n",
       "2      Seriously what the fuck is this shit. Every lo...\n",
       "3      Alan Attal bought 1500 shares today\\n\\nYesterd...\n",
       "4      $GME\\n\\nFew key points to its history so far.\\...\n",
       "                             ...                        \n",
       "180    Hi friends, I am not an expert stock trader/in...\n",
       "181    >\"Put on your bull glasses and SIMO gains\" - D...\n",
       "182    **NIU Technologies (NIU)** \\- the world’s lead...\n",
       "183    Fund managers have increased their holdings of...\n",
       "184    Company: Stellantis (STLA)\\n\\nCompany Informat...\n",
       "Name: Post Text, Length: 185, dtype: object"
      ]
     },
     "execution_count": 25,
     "metadata": {},
     "output_type": "execute_result"
    }
   ],
   "source": []
  },
  {
   "cell_type": "code",
   "execution_count": 32,
   "id": "afdf10d6",
   "metadata": {},
   "outputs": [],
   "source": [
    "i = 0\n",
    "remark = []\n",
    "confidence = []\n",
    "while(i<185):\n",
    "    TEXT = text[i]\n",
    "    sentence = flair.data.Sentence(TEXT)\n",
    "    sentiment_model.predict(sentence)\n",
    "    r1 = sentence.labels[0].value\n",
    "    c1 = sentence.labels[0].score\n",
    "    remark.append(r1)\n",
    "    confidence.append(c1)\n",
    "    i+=1"
   ]
  },
  {
   "cell_type": "code",
   "execution_count": 48,
   "id": "a6b93b07",
   "metadata": {},
   "outputs": [
    {
     "data": {
      "text/plain": [
       "[0.9999573230743408,\n",
       " 0.9999830722808838,\n",
       " 0.9999278783798218,\n",
       " 0.5268313884735107,\n",
       " 0.9955145716667175,\n",
       " 0.9998677968978882,\n",
       " 0.9998190999031067,\n",
       " 0.9999874830245972,\n",
       " 0.9999326467514038,\n",
       " 0.9999227523803711,\n",
       " 0.9541928768157959,\n",
       " 0.8590875864028931,\n",
       " 0.9999269247055054,\n",
       " 0.9999850988388062,\n",
       " 0.9843572974205017,\n",
       " 0.9995307922363281,\n",
       " 0.9999122619628906,\n",
       " 0.980063796043396,\n",
       " 0.9999502897262573,\n",
       " 0.9999983310699463,\n",
       " 0.9984642267227173,\n",
       " 0.9999613761901855,\n",
       " 0.9999251365661621,\n",
       " 0.9937015771865845,\n",
       " 0.9997808337211609,\n",
       " 0.9429993033409119,\n",
       " 0.8476636409759521,\n",
       " 0.9957212209701538,\n",
       " 0.6542895436286926,\n",
       " 0.9999595880508423,\n",
       " 0.9999040365219116,\n",
       " 0.999994158744812,\n",
       " 0.9989731311798096,\n",
       " 0.9906753301620483,\n",
       " 0.999923825263977,\n",
       " 0.9879018068313599,\n",
       " 0.9999734163284302,\n",
       " 0.9997661709785461,\n",
       " 0.9997926354408264,\n",
       " 0.9996510744094849,\n",
       " 0.8745135068893433,\n",
       " 0.9461320042610168,\n",
       " 0.9999550580978394,\n",
       " 0.9893298745155334,\n",
       " 0.9982486963272095,\n",
       " 0.9985983967781067,\n",
       " 0.9904566407203674,\n",
       " 0.9772622585296631,\n",
       " 0.99997878074646,\n",
       " 0.9999170303344727,\n",
       " 0.9952787160873413,\n",
       " 0.9909710884094238,\n",
       " 0.51743483543396,\n",
       " 0.5322367548942566,\n",
       " 0.9985876083374023,\n",
       " 0.996861457824707,\n",
       " 0.9998564720153809,\n",
       " 0.8517065644264221,\n",
       " 0.9997043013572693,\n",
       " 0.7645843625068665,\n",
       " 0.9985910058021545,\n",
       " 0.8860855102539062,\n",
       " 0.9997518658638,\n",
       " 0.999474823474884,\n",
       " 0.5487366318702698,\n",
       " 0.6393511295318604,\n",
       " 0.9982225298881531,\n",
       " 0.9964243769645691,\n",
       " 0.7559690475463867,\n",
       " 0.9999865293502808,\n",
       " 0.9926485419273376,\n",
       " 0.9947236776351929,\n",
       " 0.9999405145645142,\n",
       " 0.9408778548240662,\n",
       " 0.9988946318626404,\n",
       " 0.9997950196266174,\n",
       " 0.9999959468841553,\n",
       " 0.9924588799476624,\n",
       " 0.9909759163856506,\n",
       " 0.9993892908096313,\n",
       " 0.9966993927955627,\n",
       " 0.9998663663864136,\n",
       " 0.7702698111534119,\n",
       " 0.9976588487625122,\n",
       " 0.6710377335548401,\n",
       " 0.9993371367454529,\n",
       " 0.9996602535247803,\n",
       " 0.9988338351249695,\n",
       " 0.5238547325134277,\n",
       " 0.9054561257362366,\n",
       " 0.9997703433036804,\n",
       " 0.8403434753417969,\n",
       " 0.987214207649231,\n",
       " 0.9989727735519409,\n",
       " 0.9999843835830688,\n",
       " 0.9999792575836182,\n",
       " 0.9324305057525635,\n",
       " 0.9998688697814941,\n",
       " 0.8525624871253967,\n",
       " 0.9995436072349548,\n",
       " 0.5108964443206787,\n",
       " 0.9996577501296997,\n",
       " 0.9905988574028015,\n",
       " 0.9989089965820312,\n",
       " 0.9929062128067017,\n",
       " 0.9651482105255127,\n",
       " 0.988847017288208,\n",
       " 0.9993031024932861,\n",
       " 0.8658861517906189,\n",
       " 0.9998428821563721,\n",
       " 0.9997095465660095,\n",
       " 0.9721149206161499,\n",
       " 0.9998739957809448,\n",
       " 0.9998599290847778,\n",
       " 0.9860939979553223,\n",
       " 0.9576401710510254,\n",
       " 0.815077543258667,\n",
       " 0.8791700601577759,\n",
       " 0.9998670816421509,\n",
       " 0.9999853372573853,\n",
       " 0.9989641904830933,\n",
       " 0.9999021291732788,\n",
       " 0.9968329071998596,\n",
       " 0.9732702970504761,\n",
       " 0.9999699592590332,\n",
       " 0.996573805809021,\n",
       " 0.9997730851173401,\n",
       " 0.9995143413543701,\n",
       " 0.9972639083862305,\n",
       " 0.9999645948410034,\n",
       " 0.9772728085517883,\n",
       " 0.9347630739212036,\n",
       " 0.8531020879745483,\n",
       " 0.9978850483894348,\n",
       " 0.9316706657409668,\n",
       " 0.8240483403205872,\n",
       " 0.9995253086090088,\n",
       " 0.9998565912246704,\n",
       " 0.9777759909629822,\n",
       " 0.9847077131271362,\n",
       " 0.9999039173126221,\n",
       " 0.9663991928100586,\n",
       " 0.9999822378158569,\n",
       " 0.9653302431106567,\n",
       " 0.9982738494873047,\n",
       " 0.9972426891326904,\n",
       " 0.9994385838508606,\n",
       " 0.9627542495727539,\n",
       " 0.999945878982544,\n",
       " 0.9083779454231262,\n",
       " 0.9999891519546509,\n",
       " 0.9234870076179504,\n",
       " 0.6642187833786011,\n",
       " 0.9991424083709717,\n",
       " 0.9257962107658386,\n",
       " 0.995857298374176,\n",
       " 0.9997581839561462,\n",
       " 0.9999903440475464,\n",
       " 0.7539981603622437,\n",
       " 0.8093143701553345,\n",
       " 0.999736487865448,\n",
       " 0.8955054879188538,\n",
       " 0.9856259226799011,\n",
       " 0.9987269043922424,\n",
       " 0.9959989786148071,\n",
       " 0.9964743256568909,\n",
       " 0.998320996761322,\n",
       " 0.7522651553153992,\n",
       " 0.5017784237861633,\n",
       " 0.5180805325508118,\n",
       " 0.9953681230545044,\n",
       " 0.9842708706855774,\n",
       " 0.9924948215484619,\n",
       " 0.9999825954437256,\n",
       " 0.9998977184295654,\n",
       " 0.9989228844642639,\n",
       " 0.9251195192337036,\n",
       " 0.5280632376670837,\n",
       " 0.8008580803871155,\n",
       " 0.9914331436157227,\n",
       " 0.9992369413375854,\n",
       " 0.9969051480293274,\n",
       " 0.9984816908836365,\n",
       " 0.9931241869926453,\n",
       " 0.7722393274307251]"
      ]
     },
     "execution_count": 48,
     "metadata": {},
     "output_type": "execute_result"
    }
   ],
   "source": [
    "confidence"
   ]
  },
  {
   "cell_type": "code",
   "execution_count": 46,
   "id": "67b17149",
   "metadata": {},
   "outputs": [],
   "source": [
    "df.insert(7, \"Remark\", remark, True)\n",
    "df.insert(8, \"Confidence\", confidence, True)"
   ]
  },
  {
   "cell_type": "code",
   "execution_count": 47,
   "id": "9bb66837",
   "metadata": {},
   "outputs": [
    {
     "data": {
      "text/html": [
       "<div>\n",
       "<style scoped>\n",
       "    .dataframe tbody tr th:only-of-type {\n",
       "        vertical-align: middle;\n",
       "    }\n",
       "\n",
       "    .dataframe tbody tr th {\n",
       "        vertical-align: top;\n",
       "    }\n",
       "\n",
       "    .dataframe thead th {\n",
       "        text-align: right;\n",
       "    }\n",
       "</style>\n",
       "<table border=\"1\" class=\"dataframe\">\n",
       "  <thead>\n",
       "    <tr style=\"text-align: right;\">\n",
       "      <th></th>\n",
       "      <th>Unnamed: 0</th>\n",
       "      <th>Sno</th>\n",
       "      <th>Title</th>\n",
       "      <th>Flair</th>\n",
       "      <th>Post Text</th>\n",
       "      <th>ID</th>\n",
       "      <th>Post URL</th>\n",
       "      <th>Remark</th>\n",
       "      <th>Confidence</th>\n",
       "    </tr>\n",
       "  </thead>\n",
       "  <tbody>\n",
       "    <tr>\n",
       "      <th>0</th>\n",
       "      <td>0</td>\n",
       "      <td>28</td>\n",
       "      <td>New chimps, stop fucking going in with your li...</td>\n",
       "      <td>Discussion</td>\n",
       "      <td>You stupid dumb fucks. Pouring 200k of your gr...</td>\n",
       "      <td>tfgul9</td>\n",
       "      <td>https://www.reddit.com/r/wallstreetbets/commen...</td>\n",
       "      <td>NEGATIVE</td>\n",
       "      <td>0.999957</td>\n",
       "    </tr>\n",
       "    <tr>\n",
       "      <th>1</th>\n",
       "      <td>1</td>\n",
       "      <td>52</td>\n",
       "      <td>$GME Borrow Fee is climbing fast.</td>\n",
       "      <td>Discussion</td>\n",
       "      <td>Hello, you degenerates, I hope everyone is doi...</td>\n",
       "      <td>tn6uo5</td>\n",
       "      <td>https://www.reddit.com/r/wallstreetbets/commen...</td>\n",
       "      <td>NEGATIVE</td>\n",
       "      <td>0.999983</td>\n",
       "    </tr>\n",
       "    <tr>\n",
       "      <th>2</th>\n",
       "      <td>2</td>\n",
       "      <td>56</td>\n",
       "      <td>The \"loss porn\" isn't even fun anymore</td>\n",
       "      <td>Discussion</td>\n",
       "      <td>Seriously what the fuck is this shit. Every lo...</td>\n",
       "      <td>th53jz</td>\n",
       "      <td>https://www.reddit.com/r/wallstreetbets/commen...</td>\n",
       "      <td>NEGATIVE</td>\n",
       "      <td>0.999928</td>\n",
       "    </tr>\n",
       "    <tr>\n",
       "      <th>3</th>\n",
       "      <td>3</td>\n",
       "      <td>119</td>\n",
       "      <td>Another Director bought the GME dip!</td>\n",
       "      <td>Discussion</td>\n",
       "      <td>Alan Attal bought 1500 shares today\\n\\nYesterd...</td>\n",
       "      <td>tn95sw</td>\n",
       "      <td>https://www.reddit.com/r/wallstreetbets/commen...</td>\n",
       "      <td>NEGATIVE</td>\n",
       "      <td>0.526831</td>\n",
       "    </tr>\n",
       "    <tr>\n",
       "      <th>4</th>\n",
       "      <td>4</td>\n",
       "      <td>160</td>\n",
       "      <td>Let's take a moment and pay respect</td>\n",
       "      <td>Discussion</td>\n",
       "      <td>$GME\\n\\nFew key points to its history so far.\\...</td>\n",
       "      <td>tkff34</td>\n",
       "      <td>https://www.reddit.com/r/wallstreetbets/commen...</td>\n",
       "      <td>NEGATIVE</td>\n",
       "      <td>0.995515</td>\n",
       "    </tr>\n",
       "    <tr>\n",
       "      <th>...</th>\n",
       "      <td>...</td>\n",
       "      <td>...</td>\n",
       "      <td>...</td>\n",
       "      <td>...</td>\n",
       "      <td>...</td>\n",
       "      <td>...</td>\n",
       "      <td>...</td>\n",
       "      <td>...</td>\n",
       "      <td>...</td>\n",
       "    </tr>\n",
       "    <tr>\n",
       "      <th>180</th>\n",
       "      <td>246</td>\n",
       "      <td>2004</td>\n",
       "      <td>Bull Case for $HD (Home Depot)</td>\n",
       "      <td>Company Analysis</td>\n",
       "      <td>Hi friends, I am not an expert stock trader/in...</td>\n",
       "      <td>tp10fq</td>\n",
       "      <td>https://www.reddit.com/r/stocks/comments/tp10f...</td>\n",
       "      <td>NEGATIVE</td>\n",
       "      <td>0.999237</td>\n",
       "    </tr>\n",
       "    <tr>\n",
       "      <th>181</th>\n",
       "      <td>247</td>\n",
       "      <td>2018</td>\n",
       "      <td>SiliconMotion of the Ocean - Mega Memory Upsid...</td>\n",
       "      <td>Company Analysis</td>\n",
       "      <td>&gt;\"Put on your bull glasses and SIMO gains\" - D...</td>\n",
       "      <td>tk9a44</td>\n",
       "      <td>https://www.reddit.com/r/stocks/comments/tk9a4...</td>\n",
       "      <td>POSITIVE</td>\n",
       "      <td>0.996905</td>\n",
       "    </tr>\n",
       "    <tr>\n",
       "      <th>182</th>\n",
       "      <td>248</td>\n",
       "      <td>2086</td>\n",
       "      <td>NIU Technologies (NIU) Overview</td>\n",
       "      <td>Company Analysis</td>\n",
       "      <td>**NIU Technologies (NIU)** \\- the world’s lead...</td>\n",
       "      <td>th1czt</td>\n",
       "      <td>https://www.reddit.com/r/stocks/comments/th1cz...</td>\n",
       "      <td>POSITIVE</td>\n",
       "      <td>0.998482</td>\n",
       "    </tr>\n",
       "    <tr>\n",
       "      <th>183</th>\n",
       "      <td>249</td>\n",
       "      <td>2278</td>\n",
       "      <td>Will AAPL.O target $210,how do you think of it</td>\n",
       "      <td>Company Analysis</td>\n",
       "      <td>Fund managers have increased their holdings of...</td>\n",
       "      <td>ty38gn</td>\n",
       "      <td>https://www.reddit.com/r/stocks/comments/ty38g...</td>\n",
       "      <td>NEGATIVE</td>\n",
       "      <td>0.993124</td>\n",
       "    </tr>\n",
       "    <tr>\n",
       "      <th>184</th>\n",
       "      <td>250</td>\n",
       "      <td>2308</td>\n",
       "      <td>STLA; DD deep value deep dive</td>\n",
       "      <td>Company Analysis</td>\n",
       "      <td>Company: Stellantis (STLA)\\n\\nCompany Informat...</td>\n",
       "      <td>tto6j2</td>\n",
       "      <td>https://www.reddit.com/r/stocks/comments/tto6j...</td>\n",
       "      <td>POSITIVE</td>\n",
       "      <td>0.772239</td>\n",
       "    </tr>\n",
       "  </tbody>\n",
       "</table>\n",
       "<p>185 rows × 9 columns</p>\n",
       "</div>"
      ],
      "text/plain": [
       "     Unnamed: 0   Sno                                              Title  \\\n",
       "0             0    28  New chimps, stop fucking going in with your li...   \n",
       "1             1    52                  $GME Borrow Fee is climbing fast.   \n",
       "2             2    56             The \"loss porn\" isn't even fun anymore   \n",
       "3             3   119               Another Director bought the GME dip!   \n",
       "4             4   160                Let's take a moment and pay respect   \n",
       "..          ...   ...                                                ...   \n",
       "180         246  2004                     Bull Case for $HD (Home Depot)   \n",
       "181         247  2018  SiliconMotion of the Ocean - Mega Memory Upsid...   \n",
       "182         248  2086                    NIU Technologies (NIU) Overview   \n",
       "183         249  2278     Will AAPL.O target $210,how do you think of it   \n",
       "184         250  2308                      STLA; DD deep value deep dive   \n",
       "\n",
       "                Flair                                          Post Text  \\\n",
       "0          Discussion  You stupid dumb fucks. Pouring 200k of your gr...   \n",
       "1          Discussion  Hello, you degenerates, I hope everyone is doi...   \n",
       "2          Discussion  Seriously what the fuck is this shit. Every lo...   \n",
       "3          Discussion  Alan Attal bought 1500 shares today\\n\\nYesterd...   \n",
       "4          Discussion  $GME\\n\\nFew key points to its history so far.\\...   \n",
       "..                ...                                                ...   \n",
       "180  Company Analysis  Hi friends, I am not an expert stock trader/in...   \n",
       "181  Company Analysis  >\"Put on your bull glasses and SIMO gains\" - D...   \n",
       "182  Company Analysis  **NIU Technologies (NIU)** \\- the world’s lead...   \n",
       "183  Company Analysis  Fund managers have increased their holdings of...   \n",
       "184  Company Analysis  Company: Stellantis (STLA)\\n\\nCompany Informat...   \n",
       "\n",
       "         ID                                           Post URL    Remark  \\\n",
       "0    tfgul9  https://www.reddit.com/r/wallstreetbets/commen...  NEGATIVE   \n",
       "1    tn6uo5  https://www.reddit.com/r/wallstreetbets/commen...  NEGATIVE   \n",
       "2    th53jz  https://www.reddit.com/r/wallstreetbets/commen...  NEGATIVE   \n",
       "3    tn95sw  https://www.reddit.com/r/wallstreetbets/commen...  NEGATIVE   \n",
       "4    tkff34  https://www.reddit.com/r/wallstreetbets/commen...  NEGATIVE   \n",
       "..      ...                                                ...       ...   \n",
       "180  tp10fq  https://www.reddit.com/r/stocks/comments/tp10f...  NEGATIVE   \n",
       "181  tk9a44  https://www.reddit.com/r/stocks/comments/tk9a4...  POSITIVE   \n",
       "182  th1czt  https://www.reddit.com/r/stocks/comments/th1cz...  POSITIVE   \n",
       "183  ty38gn  https://www.reddit.com/r/stocks/comments/ty38g...  NEGATIVE   \n",
       "184  tto6j2  https://www.reddit.com/r/stocks/comments/tto6j...  POSITIVE   \n",
       "\n",
       "     Confidence  \n",
       "0      0.999957  \n",
       "1      0.999983  \n",
       "2      0.999928  \n",
       "3      0.526831  \n",
       "4      0.995515  \n",
       "..          ...  \n",
       "180    0.999237  \n",
       "181    0.996905  \n",
       "182    0.998482  \n",
       "183    0.993124  \n",
       "184    0.772239  \n",
       "\n",
       "[185 rows x 9 columns]"
      ]
     },
     "execution_count": 47,
     "metadata": {},
     "output_type": "execute_result"
    }
   ],
   "source": [
    "df"
   ]
  },
  {
   "cell_type": "code",
   "execution_count": 49,
   "id": "ac3905ed",
   "metadata": {},
   "outputs": [],
   "source": [
    "df.to_csv('df2.csv')"
   ]
  },
  {
   "cell_type": "code",
   "execution_count": 50,
   "id": "2af64fab",
   "metadata": {},
   "outputs": [],
   "source": [
    "import spacy"
   ]
  },
  {
   "cell_type": "code",
   "execution_count": 52,
   "id": "659f44a9",
   "metadata": {},
   "outputs": [],
   "source": [
    "nlp = spacy.load('en_core_web_sm')"
   ]
  },
  {
   "cell_type": "code",
   "execution_count": 60,
   "id": "cd65bcde",
   "metadata": {},
   "outputs": [
    {
     "name": "stdout",
     "output_type": "stream",
     "text": [
      "PERSON: Alan Attal\n",
      "CARDINAL: 1500\n",
      "DATE: today\n",
      "PERSON: Larry Cheng\n",
      "CARDINAL: 4000\n",
      "ORG: RC\n",
      "ORG: 100k\n"
     ]
    },
    {
     "data": {
      "text/plain": [
       "['RC', '100k']"
      ]
     },
     "execution_count": 60,
     "metadata": {},
     "output_type": "execute_result"
    }
   ],
   "source": [
    "nas = text[3]\n",
    "doc = nlp(nas)\n",
    "\n",
    "\n",
    "for entity in doc.ents:\n",
    "    print(f\"{entity.label_}: {entity.text}\")\n",
    "\n",
    "\n",
    "org_list = []\n",
    "\n",
    "for entity in doc.ents:\n",
    "    # if label_ is ORG, we append text, otherwise ignore\n",
    "    if entity.label_ == 'ORG':\n",
    "        org_list.append(entity.text)\n",
    "\n",
    "org_list"
   ]
  },
  {
   "cell_type": "code",
   "execution_count": 61,
   "id": "4d1be4d9",
   "metadata": {},
   "outputs": [
    {
     "data": {
      "text/plain": [
       "Alan Attal bought 1500 shares today\n",
       "\n",
       "Yesterday Larry Cheng bought 4000\n",
       "\n",
       "Tuesday RC bought 100k\n",
       "\n",
       "Who's gonna be next?\n",
       "\n",
       "&#x200B;\n",
       "\n",
       "GME to the fucking moon!!!!\n",
       "\n",
       "&#x200B;\n",
       "\n",
       "[https://www.sec.gov/Archives/edgar/data/1326380/000132638022000030/xslF345X03/wf-form4\\_164816416950465.xml](https://www.sec.gov/Archives/edgar/data/1326380/000132638022000030/xslF345X03/wf-form4_164816416950465.xml)\n",
       "\n",
       "&#x200B;\n",
       "\n",
       "***ps - make sure to drs your shares!***"
      ]
     },
     "execution_count": 61,
     "metadata": {},
     "output_type": "execute_result"
    }
   ],
   "source": [
    "doc"
   ]
  },
  {
   "cell_type": "code",
   "execution_count": null,
   "id": "b972316c",
   "metadata": {},
   "outputs": [],
   "source": []
  }
 ],
 "metadata": {
  "kernelspec": {
   "display_name": "Python 3 (ipykernel)",
   "language": "python",
   "name": "python3"
  },
  "language_info": {
   "codemirror_mode": {
    "name": "ipython",
    "version": 3
   },
   "file_extension": ".py",
   "mimetype": "text/x-python",
   "name": "python",
   "nbconvert_exporter": "python",
   "pygments_lexer": "ipython3",
   "version": "3.9.6"
  }
 },
 "nbformat": 4,
 "nbformat_minor": 5
}
